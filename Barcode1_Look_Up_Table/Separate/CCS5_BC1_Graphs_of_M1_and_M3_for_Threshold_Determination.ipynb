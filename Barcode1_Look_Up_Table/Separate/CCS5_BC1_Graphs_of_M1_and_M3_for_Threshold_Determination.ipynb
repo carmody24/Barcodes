{
 "cells": [
  {
   "cell_type": "code",
   "execution_count": 1,
   "id": "b5da9649-a31a-4f1e-8a3d-6c252aee1a33",
   "metadata": {},
   "outputs": [],
   "source": [
    "import pandas as pd\n",
    "import gc\n",
    "import numpy as np\n",
    "import matplotlib.pyplot as plt\n",
    "#pip install seaborn\n",
    "import seaborn as sns # may need to PIP install\n",
    "import os\n",
    "import argparse"
   ]
  },
  {
   "cell_type": "code",
   "execution_count": null,
   "id": "c06f61c4-e5b9-4572-a5d3-63907bddc0a0",
   "metadata": {},
   "outputs": [],
   "source": [
    "#UPDATE to have correct pathways and file name preferences \n",
    "#Map1 path to csv file \n",
    "File_Map1 = '/pathway/to/CCS1_BC1_Map1.csv'\n",
    "#Map3 path to csv file \n",
    "#Note this is either from CCS2 or if you did the additional No Tile Control Steps then it will be from CCS4Optional that merges the No Tile Map3 with the origional Map3\n",
    "File_From_Human_Step2_Map3 = 'pathway/to/CSS2_Map3.csv'\n",
    "\n",
    "#Global Variables \n",
    "Fig_Format = 'jpeg' #file format you want all the graphs to be saved\n",
    "Lib_Name = 'Lib_1_i30' #name you want to be at the start of the files \n",
    "Output_Directory = f'{Lib_Name}_CCS5_Graphs' #currently makes a folder in the directory you are already in \n",
    "os.makedirs(Output_Directory, exist_ok=True) #makes sure no problems if the dir already exists\n",
    "\n",
    "Map3_Summary_Dict = {\n",
    "        'Category': [\n",
    "            ],\n",
    "            'Read Count':[\n",
    "            ]\n",
    "    }"
   ]
  },
  {
   "cell_type": "code",
   "execution_count": null,
   "id": "0f953a53-4b1b-49df-ac1c-b7e5785d1989",
   "metadata": {},
   "outputs": [],
   "source": [
    "#Map1 Functions\n",
    "#distribution of Tile lengths \n",
    "def analyze_map1_T_len(map1_data):\n",
    "    plt.hist(map1_data['T Len'], bins=50)\n",
    "    plt.title(f'{Lib_Name} T Length Map1')\n",
    "    plt.xlim([0, 150])\n",
    "    f_path = os.path.join(Output_Directory,f'{Lib_Name}_T_Length_Map1.jpg')\n",
    "    plt.savefig(f_path, format= Fig_Format)\n",
    "    plt.clf()\n",
    "\n",
    "#distribition of BC1 lengths \n",
    "def analyze_map1_A_len(map1_data1):\n",
    "    plt.hist(map1_data1['A Len'], bins=50)\n",
    "    plt.title(f'{Lib_Name} BC Length Map1')\n",
    "    plt.xlim([0, 15])\n",
    "    f_path1 = os.path.join(Output_Directory,f'{Lib_Name}_A_Length_Map1.jpg')\n",
    "    plt.savefig(f_path1, format= Fig_Format)\n",
    "    plt.clf()\n",
    "\n",
    "#distribution of Tile length quality\n",
    "def analyze_map1_T_qual(map1_data2):\n",
    "    plt.hist(map1_data2['T Qual'], bins=50)\n",
    "    plt.title(f'{Lib_Name} T Qual Map1')\n",
    "    f_path2 = os.path.join(Output_Directory,f'{Lib_Name}_T_Qual_Map1.jpg')\n",
    "    plt.savefig(f_path2, format= Fig_Format)\n",
    "    plt.clf()\n",
    "\n",
    "#distribution of BC1 length quality   \n",
    "def analyze_map1_A_qual(map1_data3):\n",
    "    plt.hist(map1_data3['A Qual'], bins=50)\n",
    "    plt.title(f'{Lib_Name} BC Qual Map1')\n",
    "    f_path3 = os.path.join(Output_Directory,f'{Lib_Name}_A_Qual_Map1.jpg')\n",
    "    plt.savefig(f_path3, format= Fig_Format)\n",
    "    plt.clf()"
   ]
  },
  {
   "cell_type": "code",
   "execution_count": 4,
   "id": "bf07a67d-a5fd-4569-bf08-0d62bc29237d",
   "metadata": {},
   "outputs": [],
   "source": [
    "map1 = pd.read_csv(File_Map1)"
   ]
  },
  {
   "cell_type": "code",
   "execution_count": null,
   "id": "5337ef17-e6c9-4b3e-870a-ddc556b570ca",
   "metadata": {},
   "outputs": [],
   "source": [
    "# quality check that numbers still the same\n",
    "Map3_Summary_Dict['Category'].append('Map1 Shape (should be same as total seq)')\n",
    "Map3_Summary_Dict['Read Count'].append(map1.shape[0])"
   ]
  },
  {
   "cell_type": "code",
   "execution_count": 6,
   "id": "ef37e521-4a4f-4246-8bb8-4016e7386a9a",
   "metadata": {},
   "outputs": [
    {
     "name": "stdout",
     "output_type": "stream",
     "text": [
      "Map1 maps finsished\n"
     ]
    },
    {
     "data": {
      "text/plain": [
       "<Figure size 640x480 with 0 Axes>"
      ]
     },
     "metadata": {},
     "output_type": "display_data"
    }
   ],
   "source": [
    "#analyze map1 and make graphs\n",
    "analyze_map1_T_len(map1)\n",
    "analyze_map1_A_len(map1)\n",
    "analyze_map1_T_qual(map1)\n",
    "analyze_map1_A_qual(map1)\n",
    "\n",
    "print('Map1 maps finsished')"
   ]
  },
  {
   "cell_type": "code",
   "execution_count": 7,
   "id": "26b387c3-d795-4f1f-a92d-6ff37b0d369f",
   "metadata": {},
   "outputs": [
    {
     "data": {
      "text/plain": [
       "15635"
      ]
     },
     "execution_count": 7,
     "metadata": {},
     "output_type": "execute_result"
    }
   ],
   "source": [
    "#delete map1 to save memory\n",
    "del map1\n",
    "gc.collect()"
   ]
  },
  {
   "cell_type": "code",
   "execution_count": null,
   "id": "de1e36c0-97b6-4312-9fb5-992881fbe7ae",
   "metadata": {},
   "outputs": [],
   "source": [
    "###Map 3 Functions \n",
    "#everything is unfiltered because we will use these graphs to determine a good minimum read threshold cut off and make these graphs again with filtered data\n",
    "def analyze_tbcov_nom(map3_data): #tile coverage if seq deep enough should have normal distribution \n",
    "    sns.histplot(x='count', data=map3_data, bins=50)\n",
    "    plt.title(f'{Lib_Name} Unique Tile +BC Coverage Unfiltered')\n",
    "    f_path = os.path.join(Output_Directory,f'{Lib_Name}_TBcov_uf_Map3.jpg')\n",
    "    plt.savefig(f_path, format= Fig_Format)\n",
    "    plt.clf()\n",
    "    \n",
    "def analyze_tcov_nom(map3_data): #tile coverage if seq deep enough should have normal distribution \n",
    "    sns.histplot(x='count', data=map3_data, bins=50)\n",
    "    plt.title(f'{Lib_Name} Unique Tile Coverage Unfiltered')\n",
    "    f_path = os.path.join(Output_Directory,f'{Lib_Name}_Tcov_uf_Map3.jpg')\n",
    "    plt.savefig(f_path, format= Fig_Format)\n",
    "    plt.clf()\n",
    "\n",
    "def analyze_tcov_exp(map3_data): #tile coverage if seq deep enough should have normal distribution \n",
    "    sns.histplot(x='count', data=map3_data, log_scale=(True, True), bins=50)\n",
    "    plt.title(f'{Lib_Name} Unique Tile Coverage Unfiltered')\n",
    "    #ax.yaxis.set_major_locator(LogLocator(base=10))\n",
    "    #ax.xaxis.set_major_locator(LogLocator(base=10))\n",
    "    f_path = os.path.join(Output_Directory,f'{Lib_Name}_Tcov_uf_exp_Map3.jpg')\n",
    "    plt.savefig(f_path, format= Fig_Format)\n",
    "    plt.clf()\n",
    "\n",
    "\n",
    "def analyze_tbcov_exp(map3_data): #exponential map to use to draw threshold near where the graph starts to have more sigmodial curve\n",
    "    sns.histplot(data=map3_data, x='count', log_scale=(True, True), bins=50) \n",
    "    plt.title(f'{Lib_Name} Unique Tile + BC Coverage Unfiltered') #unfilted meaning haven't removed tile+bc combos where one BC maps to multiple tiles yet\n",
    "    #ax.yaxis.set_major_locator(LogLocator(base=10))\n",
    "    #ax.xaxis.set_major_locator(LogLocator(base=10))\n",
    "    f_path = os.path.join(Output_Directory,f'{Lib_Name}_TBcov_exp_uf_Map3.jpg')\n",
    "    plt.savefig(f_path, format= Fig_Format)\n",
    "    plt.clf() \n"
   ]
  },
  {
   "cell_type": "code",
   "execution_count": 31,
   "id": "b06e3ffa-53f1-49da-8f5a-b8e7020e2bf2",
   "metadata": {},
   "outputs": [],
   "source": [
    "map3 = pd.read_csv(File_From_Human_Step2_Map3)"
   ]
  },
  {
   "cell_type": "code",
   "execution_count": 32,
   "id": "e2d22151-db1f-4973-9078-9d62380208ed",
   "metadata": {},
   "outputs": [
    {
     "data": {
      "text/html": [
       "<div>\n",
       "<style scoped>\n",
       "    .dataframe tbody tr th:only-of-type {\n",
       "        vertical-align: middle;\n",
       "    }\n",
       "\n",
       "    .dataframe tbody tr th {\n",
       "        vertical-align: top;\n",
       "    }\n",
       "\n",
       "    .dataframe thead th {\n",
       "        text-align: right;\n",
       "    }\n",
       "</style>\n",
       "<table border=\"1\" class=\"dataframe\">\n",
       "  <thead>\n",
       "    <tr style=\"text-align: right;\">\n",
       "      <th></th>\n",
       "      <th>Tiles</th>\n",
       "      <th>count</th>\n",
       "    </tr>\n",
       "  </thead>\n",
       "  <tbody>\n",
       "    <tr>\n",
       "      <th>0</th>\n",
       "      <td>ACCGACTTCTTCGACGAGGAGTTCTTCATGAGCTTCTTCTTCGAGA...</td>\n",
       "      <td>221671</td>\n",
       "    </tr>\n",
       "    <tr>\n",
       "      <th>1</th>\n",
       "      <td>ACCGACTTCATCGACGAGGAGGTGTTCATGAGCTTCGTGATCGAGA...</td>\n",
       "      <td>200738</td>\n",
       "    </tr>\n",
       "    <tr>\n",
       "      <th>2</th>\n",
       "      <td>TGGATGGGCCTGATGGTGTTCGCCATGGGCTGGAGAAGCTTCACCA...</td>\n",
       "      <td>163242</td>\n",
       "    </tr>\n",
       "    <tr>\n",
       "      <th>3</th>\n",
       "      <td>TGCATGAAGGCCCTGCTGCTGTTCAGCATCATTCCCGTGGACGGCC...</td>\n",
       "      <td>161546</td>\n",
       "    </tr>\n",
       "    <tr>\n",
       "      <th>4</th>\n",
       "      <td>GACGACCAGATGGCCGTGATCCAGTACAGCTGGATGGGCCTGATGG...</td>\n",
       "      <td>161367</td>\n",
       "    </tr>\n",
       "  </tbody>\n",
       "</table>\n",
       "</div>"
      ],
      "text/plain": [
       "                                               Tiles   count\n",
       "0  ACCGACTTCTTCGACGAGGAGTTCTTCATGAGCTTCTTCTTCGAGA...  221671\n",
       "1  ACCGACTTCATCGACGAGGAGGTGTTCATGAGCTTCGTGATCGAGA...  200738\n",
       "2  TGGATGGGCCTGATGGTGTTCGCCATGGGCTGGAGAAGCTTCACCA...  163242\n",
       "3  TGCATGAAGGCCCTGCTGCTGTTCAGCATCATTCCCGTGGACGGCC...  161546\n",
       "4  GACGACCAGATGGCCGTGATCCAGTACAGCTGGATGGGCCTGATGG...  161367"
      ]
     },
     "execution_count": 32,
     "metadata": {},
     "output_type": "execute_result"
    }
   ],
   "source": [
    "#Tile coverage\n",
    "tcov = map3['Tiles'].value_counts().to_frame().reset_index()\n",
    "tcov.head()"
   ]
  },
  {
   "cell_type": "code",
   "execution_count": 33,
   "id": "e37332ea-7c78-4eb6-b19c-dc75cdb9ed7a",
   "metadata": {},
   "outputs": [
    {
     "data": {
      "text/html": [
       "<div>\n",
       "<style scoped>\n",
       "    .dataframe tbody tr th:only-of-type {\n",
       "        vertical-align: middle;\n",
       "    }\n",
       "\n",
       "    .dataframe tbody tr th {\n",
       "        vertical-align: top;\n",
       "    }\n",
       "\n",
       "    .dataframe thead th {\n",
       "        text-align: right;\n",
       "    }\n",
       "</style>\n",
       "<table border=\"1\" class=\"dataframe\">\n",
       "  <thead>\n",
       "    <tr style=\"text-align: right;\">\n",
       "      <th></th>\n",
       "      <th>Tiles</th>\n",
       "      <th>count</th>\n",
       "    </tr>\n",
       "  </thead>\n",
       "  <tbody>\n",
       "    <tr>\n",
       "      <th>1810</th>\n",
       "      <td>AGCGCCGCTCCTCCCGGCGCCAGCCTGCTGCTGCTGCAGCAGCAGC...</td>\n",
       "      <td>2</td>\n",
       "    </tr>\n",
       "    <tr>\n",
       "      <th>1811</th>\n",
       "      <td>GCCGAGGAGGGCCAGCTGTACGGACCCTGCGGCGGCGGCGGCGGCG...</td>\n",
       "      <td>2</td>\n",
       "    </tr>\n",
       "    <tr>\n",
       "      <th>1812</th>\n",
       "      <td>CAGATGTTCCAGAACTTCGGCGGCACCGGCGGCAGCAGCGGCAGCA...</td>\n",
       "      <td>2</td>\n",
       "    </tr>\n",
       "    <tr>\n",
       "      <th>1813</th>\n",
       "      <td>GGCGCCAGCCTGCTGCTGCTGCAGCAGCAGCAGCAGCAGCAGCAGC...</td>\n",
       "      <td>1</td>\n",
       "    </tr>\n",
       "    <tr>\n",
       "      <th>1814</th>\n",
       "      <td>AGACTGGAGGAGTTCTCTCCCAGACAGGCCCAGATGTTCCAGAACT...</td>\n",
       "      <td>1</td>\n",
       "    </tr>\n",
       "  </tbody>\n",
       "</table>\n",
       "</div>"
      ],
      "text/plain": [
       "                                                  Tiles  count\n",
       "1810  AGCGCCGCTCCTCCCGGCGCCAGCCTGCTGCTGCTGCAGCAGCAGC...      2\n",
       "1811  GCCGAGGAGGGCCAGCTGTACGGACCCTGCGGCGGCGGCGGCGGCG...      2\n",
       "1812  CAGATGTTCCAGAACTTCGGCGGCACCGGCGGCAGCAGCGGCAGCA...      2\n",
       "1813  GGCGCCAGCCTGCTGCTGCTGCAGCAGCAGCAGCAGCAGCAGCAGC...      1\n",
       "1814  AGACTGGAGGAGTTCTCTCCCAGACAGGCCCAGATGTTCCAGAACT...      1"
      ]
     },
     "execution_count": 33,
     "metadata": {},
     "output_type": "execute_result"
    }
   ],
   "source": [
    "tcov.tail()"
   ]
  },
  {
   "cell_type": "code",
   "execution_count": 11,
   "id": "3efa0d35-9588-4eea-8177-a8cda4fb066b",
   "metadata": {},
   "outputs": [],
   "source": [
    "#add info to summary dict\n",
    "Map3_Summary_Dict['Category'].append('Unique Tiles Count')\n",
    "Map3_Summary_Dict['Read Count'].append(tcov.shape[0])"
   ]
  },
  {
   "cell_type": "code",
   "execution_count": 42,
   "id": "2f490691-24dd-488f-aee1-ed588331fc20",
   "metadata": {
    "collapsed": true,
    "jupyter": {
     "outputs_hidden": true
    }
   },
   "outputs": [
    {
     "data": {
      "text/html": [
       "<div>\n",
       "<style scoped>\n",
       "    .dataframe tbody tr th:only-of-type {\n",
       "        vertical-align: middle;\n",
       "    }\n",
       "\n",
       "    .dataframe tbody tr th {\n",
       "        vertical-align: top;\n",
       "    }\n",
       "\n",
       "    .dataframe thead th {\n",
       "        text-align: right;\n",
       "    }\n",
       "</style>\n",
       "<table border=\"1\" class=\"dataframe\">\n",
       "  <thead>\n",
       "    <tr style=\"text-align: right;\">\n",
       "      <th></th>\n",
       "      <th>Cat</th>\n",
       "      <th>count</th>\n",
       "    </tr>\n",
       "  </thead>\n",
       "  <tbody>\n",
       "    <tr>\n",
       "      <th>0</th>\n",
       "      <td>CCCAGAAGAAGCAGCCTGAGCAGAAGAAGCAGCATGGAGTCTCCCA...</td>\n",
       "      <td>5317</td>\n",
       "    </tr>\n",
       "    <tr>\n",
       "      <th>1</th>\n",
       "      <td>AGAGACTTCATCGACGAGGAGGTGCTGATGAGACTGGTGATCGAGA...</td>\n",
       "      <td>4788</td>\n",
       "    </tr>\n",
       "    <tr>\n",
       "      <th>2</th>\n",
       "      <td>AACTTCGATCCCATCGACGTGAGCCAGCTGTTCGACGAGCCCGACA...</td>\n",
       "      <td>4440</td>\n",
       "    </tr>\n",
       "    <tr>\n",
       "      <th>3</th>\n",
       "      <td>CTGCTGTTCAGCATCATTCCCGTGGACGGCCTGAAGAACCAGAAGT...</td>\n",
       "      <td>4266</td>\n",
       "    </tr>\n",
       "    <tr>\n",
       "      <th>4</th>\n",
       "      <td>AGACTGGCCAACCTGCTGATGCTGCTGAGCCACGTGAGACACGCCA...</td>\n",
       "      <td>4183</td>\n",
       "    </tr>\n",
       "  </tbody>\n",
       "</table>\n",
       "</div>"
      ],
      "text/plain": [
       "                                                 Cat  count\n",
       "0  CCCAGAAGAAGCAGCCTGAGCAGAAGAAGCAGCATGGAGTCTCCCA...   5317\n",
       "1  AGAGACTTCATCGACGAGGAGGTGCTGATGAGACTGGTGATCGAGA...   4788\n",
       "2  AACTTCGATCCCATCGACGTGAGCCAGCTGTTCGACGAGCCCGACA...   4440\n",
       "3  CTGCTGTTCAGCATCATTCCCGTGGACGGCCTGAAGAACCAGAAGT...   4266\n",
       "4  AGACTGGCCAACCTGCTGATGCTGCTGAGCCACGTGAGACACGCCA...   4183"
      ]
     },
     "execution_count": 42,
     "metadata": {},
     "output_type": "execute_result"
    }
   ],
   "source": [
    "#####Tile + BC coverage \n",
    "tbcov = map3['Cat'].value_counts().to_frame().reset_index()\n",
    "tbcov.head()"
   ]
  },
  {
   "cell_type": "code",
   "execution_count": 13,
   "id": "2cc89518-70b5-4f38-8e4e-dba87e8db735",
   "metadata": {},
   "outputs": [],
   "source": [
    "#add info to summary dict\n",
    "Map3_Summary_Dict['Category'].append('Unique Tile + BC Count')\n",
    "Map3_Summary_Dict['Read Count'].append(tbcov.shape[0])"
   ]
  },
  {
   "cell_type": "code",
   "execution_count": 14,
   "id": "12274661-2171-4d7c-9e7d-66a19cc09251",
   "metadata": {},
   "outputs": [],
   "source": [
    "Map3_Summary_Dict_df = pd.DataFrame.from_dict(Map3_Summary_Dict)\n",
    "sum3_f_p = os.path.join(Output_Directory,f'{Lib_Name}_Summary_Graphs_Map1_and_Map3.csv')\n",
    "Map3_Summary_Dict_df.to_csv(sum3_f_p,index=False)"
   ]
  },
  {
   "cell_type": "code",
   "execution_count": 50,
   "id": "2507e6ed-3e0b-4d60-a2da-fcc92a044426",
   "metadata": {},
   "outputs": [
    {
     "name": "stderr",
     "output_type": "stream",
     "text": [
      "/global/software/rocky-8.x86_64/manual/modules/langs/anaconda3/2024.02-1/lib/python3.11/site-packages/seaborn/_oldcore.py:1119: FutureWarning: use_inf_as_na option is deprecated and will be removed in a future version. Convert inf values to NaN before operating instead.\n",
      "  with pd.option_context('mode.use_inf_as_na', True):\n"
     ]
    },
    {
     "data": {
      "text/plain": [
       "<Figure size 640x480 with 0 Axes>"
      ]
     },
     "metadata": {},
     "output_type": "display_data"
    }
   ],
   "source": [
    "analyze_tbcov_nom(tbcov)"
   ]
  },
  {
   "cell_type": "code",
   "execution_count": 48,
   "id": "f4c308d4-938a-42e2-a2e9-d99ab25415f8",
   "metadata": {},
   "outputs": [
    {
     "name": "stderr",
     "output_type": "stream",
     "text": [
      "/global/software/rocky-8.x86_64/manual/modules/langs/anaconda3/2024.02-1/lib/python3.11/site-packages/seaborn/_oldcore.py:1119: FutureWarning: use_inf_as_na option is deprecated and will be removed in a future version. Convert inf values to NaN before operating instead.\n",
      "  with pd.option_context('mode.use_inf_as_na', True):\n"
     ]
    },
    {
     "data": {
      "text/plain": [
       "<Figure size 640x480 with 0 Axes>"
      ]
     },
     "metadata": {},
     "output_type": "display_data"
    }
   ],
   "source": [
    "#tile cov normal axis\n",
    "analyze_tcov_nom(tcov) #ideally normal distribution if seq deep enough, look for skew"
   ]
  },
  {
   "cell_type": "code",
   "execution_count": 46,
   "id": "1646148d-848e-477a-b49f-a0ed3741a3ec",
   "metadata": {},
   "outputs": [
    {
     "name": "stderr",
     "output_type": "stream",
     "text": [
      "/global/software/rocky-8.x86_64/manual/modules/langs/anaconda3/2024.02-1/lib/python3.11/site-packages/seaborn/_oldcore.py:1119: FutureWarning: use_inf_as_na option is deprecated and will be removed in a future version. Convert inf values to NaN before operating instead.\n",
      "  with pd.option_context('mode.use_inf_as_na', True):\n"
     ]
    },
    {
     "data": {
      "text/plain": [
       "<Figure size 640x480 with 0 Axes>"
      ]
     },
     "metadata": {},
     "output_type": "display_data"
    }
   ],
   "source": [
    "#tile cov exponential axis\n",
    "analyze_tcov_exp(tcov) #ideally normal distribution if seq deep enough, look for skew"
   ]
  },
  {
   "cell_type": "code",
   "execution_count": 47,
   "id": "847f63c6-8a2c-42e0-9633-c9d4bb404064",
   "metadata": {},
   "outputs": [
    {
     "name": "stderr",
     "output_type": "stream",
     "text": [
      "/global/software/rocky-8.x86_64/manual/modules/langs/anaconda3/2024.02-1/lib/python3.11/site-packages/seaborn/_oldcore.py:1119: FutureWarning: use_inf_as_na option is deprecated and will be removed in a future version. Convert inf values to NaN before operating instead.\n",
      "  with pd.option_context('mode.use_inf_as_na', True):\n"
     ]
    },
    {
     "name": "stdout",
     "output_type": "stream",
     "text": [
      "Finished with Everything\n"
     ]
    },
    {
     "data": {
      "text/plain": [
       "<Figure size 640x480 with 0 Axes>"
      ]
     },
     "metadata": {},
     "output_type": "display_data"
    }
   ],
   "source": [
    "#tilt + BC cov exponential axis \n",
    "analyze_tbcov_exp(tbcov) #tile + bc use to draw threshold for min number of reads per tb \n",
    "\n",
    "# #tile cov exponential axis\n",
    "# analyze_tcov_exp(tcov) #ideally normal distribution if seq deep enough, look for skew\n",
    "\n",
    "# #tile cov normal axis\n",
    "# analyze_tcov_nom(tcov) #ideally normal distribution if seq deep enough, look for skew\n",
    "\n",
    "print('Finished with Everything')"
   ]
  },
  {
   "cell_type": "code",
   "execution_count": null,
   "id": "e5f32d43-a6ff-4e45-adc7-2bdc718f1260",
   "metadata": {},
   "outputs": [],
   "source": []
  }
 ],
 "metadata": {
  "kernelspec": {
   "display_name": "Python 3 (ipykernel)",
   "language": "python",
   "name": "python3"
  },
  "language_info": {
   "codemirror_mode": {
    "name": "ipython",
    "version": 3
   },
   "file_extension": ".py",
   "mimetype": "text/x-python",
   "name": "python",
   "nbconvert_exporter": "python",
   "pygments_lexer": "ipython3",
   "version": "3.11.7"
  }
 },
 "nbformat": 4,
 "nbformat_minor": 5
}
