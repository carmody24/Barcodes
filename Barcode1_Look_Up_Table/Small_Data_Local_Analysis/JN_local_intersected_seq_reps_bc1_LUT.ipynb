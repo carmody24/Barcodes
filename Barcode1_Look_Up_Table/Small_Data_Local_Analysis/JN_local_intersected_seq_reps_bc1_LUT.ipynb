{
 "cells": [
  {
   "cell_type": "code",
   "execution_count": null,
   "id": "94860b2a",
   "metadata": {},
   "outputs": [],
   "source": [
    "import pandas as pd\n",
    "import re\n",
    "import numpy as np\n",
    "import matplotlib.pyplot as plt"
   ]
  },
  {
   "cell_type": "code",
   "execution_count": null,
   "id": "8edce93c-1545-4f7d-a8fa-fa2faae75a75",
   "metadata": {},
   "outputs": [],
   "source": [
    "Lib_Name = 'Lib_1' #UPDATE with library name or base name you want for your files\n",
    "Fig_Format = 'jpeg' #UPDATE default graph file format\n",
    "\n",
    "Seq_Rep_1 = 'path/to/rep1_Map3' #UPDATE pathway to seq rep 1 Map3 \n",
    "Seq_Rep_2 = 'path/to/rep2_Map3' #UPDATE pathway to seq rep 2 Map3\n",
    "\n",
    "Name_Rep1 = 'Rep1' #UPDATE default is rep1 but I like to change to sequencing index number \n",
    "Name_Rep2 = 'Rep2'#UPDATE default is rep2 but I like to change to sequencing index number \n",
    "\n",
    "#create summary tabble\n",
    "summary_dict = {'Category': [], 'Read Count': []}"
   ]
  },
  {
   "cell_type": "code",
   "execution_count": null,
   "id": "bb802c94",
   "metadata": {},
   "outputs": [],
   "source": [
    "#combine what appears in both step 1 seq reps \n",
    "\n",
    "df1 = pd.read_csv(Seq_Rep_1) \n",
    "df2 = pd.read_csv(Seq_Rep_2)  \n",
    "\n",
    "summary_dict['Category'].append(f'{Name_Rep1} Map3 Shape')\n",
    "summary_dict['Read Count'].append(df1.shape[0])\n",
    "\n",
    "summary_dict['Category'].append(f'{Name_Rep2} Map3 Shape')\n",
    "summary_dict['Read Count'].append(df2.shape[0])\n",
    "\n",
    "print(f'{Name_Rep1} Map3 Shape: {df1.shape[0]}')\n",
    "print(f'{Name_Rep2} Map3 Shape: {df2.shape[0]}')\n",
    "\n",
    "# Add a column to indicate the source DataFrame\n",
    "df1['Source'] = Name_Rep1\n",
    "df2['Source'] = Name_Rep2\n",
    "\n",
    "#initial unqiue Tile+Bc1 combos in each rep1\n",
    "unique_sequences_r1 = df1['Cat'].nunique()\n",
    "unique_sequences_r2 = df2['Cat'].nunique()\n",
    "\n",
    "summary_dict['Category'].append(f'{Name_Rep1} Map3 unique tile + bc1 combinations')\n",
    "summary_dict['Read Count'].append(unique_sequences_r1)\n",
    "\n",
    "summary_dict['Category'].append(f'{Name_Rep2} Map3 unique tile + bc1 combinations')\n",
    "summary_dict['Read Count'].append(unique_sequences_r2)\n",
    "\n",
    "print(f\"Number of unique tile + bc1 in {Name_Rep1} df: {unique_sequences_r1}\")\n",
    "print(f\"Number of unique tile + bc1 in {Name_Rep2} df: {unique_sequences_r2}\")\n",
    "\n",
    "# Find intersection of values in column 'AD BCs'\n",
    "intersection_values = set(df1['Cat']).intersection(set(df2['Cat'])) #UPDATE can intersect based on AD BCs too but is less stringent \n",
    "\n",
    "summary_dict['Category'].append(f'Intersected unique tile + bc1 combinations')\n",
    "summary_dict['Read Count'].append(len(intersection_values))\n",
    "\n",
    "print(f\"Number of Intersected unique tile + bc1 combinations: {len(intersection_values)}\")\n",
    "\n",
    "# Filter the original DataFrames to keep only the intersected values\n",
    "df1_filtered = df1[df1['Cat'].isin(intersection_values)]\n",
    "df2_filtered = df2[df2['Cat'].isin(intersection_values)]\n",
    "\n",
    "summary_dict['Category'].append(f'Filtered for Cat in both Reps, {Name_Rep1} Map3 Shape')\n",
    "summary_dict['Read Count'].append(df1_filtered.shape[0])\n",
    "\n",
    "summary_dict['Category'].append(f'Filtered for Cat in both Reps, {Name_Rep2} Map3 Shape')\n",
    "summary_dict['Read Count'].append(df2_filtered.shape[0])\n",
    "\n",
    "print(f'{Name_Rep1} Map3 Shape: {df1_filtered.shape[0]}')\n",
    "print(f'{Name_Rep2} Map3 Shape: {df2_filtered.shape[0]}')\n",
    "\n",
    "# Merge the filtered DataFrames to create a new DataFrame with all columns\n",
    "new_df = pd.concat([df1_filtered, df2_filtered]).reset_index(drop=True)\n",
    "\n",
    "unique_sequences_new = new_df['Cat'].nunique()\n",
    "\n",
    "summary_dict['Category'].append(f'Intersected Map3 Shape')\n",
    "summary_dict['Read Count'].append(new_df.shape[0])\n",
    "\n",
    "summary_dict['Category'].append(f'Intersected Unique Tile + bc1 combinations')\n",
    "summary_dict['Read Count'].append(unique_sequences_new)\n",
    "\n",
    "print(f\"Intersected df Map3 Shape: {new_df.shape[0]}\")\n",
    "print(f\"Number of unique tile + bc1 in Intersected df: {unique_sequences_new}\")\n",
    "\n"
   ]
  },
  {
   "cell_type": "code",
   "execution_count": null,
   "id": "989f49ef-a968-4c36-97b8-a52ccc66c590",
   "metadata": {
    "scrolled": true
   },
   "outputs": [],
   "source": [
    "#stats on the above \n",
    "sum_reps_tile_bc_combos = len(df1) + len(df2)\n",
    "percent_in_both = (len(new_df)/sum_reps_tile_bc_combos)*100\n",
    "print(f'% AD_BC in both reps: {percent_in_both}')"
   ]
  },
  {
   "cell_type": "code",
   "execution_count": null,
   "id": "42adf7b1-5107-49a5-8319-acee743bdb88",
   "metadata": {},
   "outputs": [],
   "source": [
    "#create intersected df csv\n",
    "new_df.to_csv(f'{Lib_Name}_intersected_map3_unfiltered.csv', index=False)"
   ]
  },
  {
   "cell_type": "code",
   "execution_count": null,
   "id": "d3f8accf-17fe-44e9-a450-ebf041af67db",
   "metadata": {},
   "outputs": [],
   "source": [
    "#UPDATE\n",
    "#For the below 2 kernals determine if you want to use the first filter >90% reads map to 1 tile or more stringent of all reads must map to 1 tile\n",
    "#I typically use the >90% but you can also change the 90 to a higher % or use 100% in the stringent filter "
   ]
  },
  {
   "cell_type": "code",
   "execution_count": null,
   "id": "09a8eb02-a5a6-4fb6-8da7-b27f061ef321",
   "metadata": {},
   "outputs": [],
   "source": [
    "# Filter out rows where bc1 maps to multiple tiles but will keep if 90% of the times the bc1 appears it is with 1 tile\n",
    "grouped = new_df.groupby('AD BCs')['Tiles'].value_counts().reset_index(name='count')\n",
    "total_counts = grouped.groupby('AD BCs')['count'].sum().reset_index(name='total_count')\n",
    "grouped = grouped.merge(total_counts, on='AD BCs')\n",
    "grouped['percentage'] = grouped['count'] / grouped['total_count']\n",
    "to_keep = grouped[grouped['percentage'] >= 0.9] #you can modify this to be more strigent but wouldn't make more permisive \n",
    "filtered_df = new_df.merge(to_keep[['AD BCs', 'Tiles']], on=['AD BCs', 'Tiles'], how='inner')\n",
    "\n",
    "# Count unique Tiles after filtering\n",
    "final_unique_tiles = filtered_df['Tiles'].nunique()\n",
    "final_unique_tbc1 = filtered_df['Cat'].nunique()\n",
    "\n",
    "summary_dict['Category'].append(f'Intersected Map3 unique Tiles after removing bc1 that map to multiple tiles <90% of the time')\n",
    "summary_dict['Read Count'].append(final_unique_tiles)\n",
    "\n",
    "summary_dict['Category'].append(f'Intersected Map3 unique Tile + bc1 combinations after removing bc1 that map to multiple tiles <90% of the time')\n",
    "summary_dict['Read Count'].append(final_unique_tbc1)\n",
    "\n",
    "\n",
    "print(f\"Number of Tiles after >90% map to 1 bc1 filter: {final_unique_tiles}\")\n",
    "print(f\"Number of unique Tile + bc1 combinations after >90% map to 1 bc1 filter: {final_unique_tbc1}\")\n",
    "\n",
    "#filtered_df.to_csv(f'{Lib_Name}_intersected_Map3_filtered.csv', index=False) #UPDATE uncomment if you want a filtered csv file made"
   ]
  },
  {
   "cell_type": "code",
   "execution_count": null,
   "id": "f83d0205-c59d-4aca-8544-49fedf2e7057",
   "metadata": {},
   "outputs": [],
   "source": [
    "#more stringent filter removing any barcodes that  map to multiple tiles \n",
    "# Group by 'AD BCs' and check if there's more than one unique 'Tiles' within each group\n",
    "rows_to_remove = new_df.groupby('AD BCs').filter(lambda x: x['Tiles'].nunique() > 1)\n",
    "\n",
    "# Remove those rows from the original dataframe\n",
    "stringent_filtered = new_df.drop(rows_to_remove.index)\n",
    "\n",
    "# Count unique Tiles after filtering\n",
    "final_unique_tiles_2 = stringent_filtered['Tiles'].nunique()\n",
    "final_unique_tbc1_2 = stringent_filtered['Cat'].nunique()\n",
    "\n",
    "summary_dict['Category'].append(f'Intersected Map3 unique Tiles after stringent')\n",
    "summary_dict['Read Count'].append(final_unique_tiles_2)\n",
    "\n",
    "summary_dict['Category'].append(f'Intersected Map3 unique Tile + bc1 combinations after stringent')\n",
    "summary_dict['Read Count'].append(final_unique_tbc1_2)\n",
    "\n",
    "\n",
    "print(f\"Number of Tiles after stringent filter: {final_unique_tiles_2}\")\n",
    "print(f\"Number of unique Tile + bc1 combinations after stringent filter: {final_unique_tbc1_2}\")\n",
    "\n",
    "#stringent_filtered.to_csv(f'{Lib_Name}_intersected_Map3_stringent_filtered.csv', index=False) #UPDATE uncomment if you want a stringent filtered csv file made"
   ]
  },
  {
   "cell_type": "code",
   "execution_count": null,
   "id": "85bf729b-b0df-4a5a-808d-bbf5d13e29dd",
   "metadata": {},
   "outputs": [],
   "source": [
    "# plot tile+bc1 coverage on histogram LOG\n",
    "def tbc_graph(data):\n",
    "    plt.figure()\n",
    "    plt.title(f'{Lib_Name } Intersected: Unique Tile + BC Read Coverage Frequency')\n",
    "    plt.hist(data['Cat'],  bins=100)\n",
    "    plt.xlabel('Coverage')\n",
    "    plt.ylabel('Counts')\n",
    "    plt.xscale('log')\n",
    "    plt.yscale('log')\n",
    "    plt.savefig(f'{Lib_Name}_Intersected_Unique_Tile_with_bc1', format=Fig_Format)\n",
    "    plt.show()\n",
    "\n",
    "tbc_graph()#UPDATE input filtered_df or stringent_filtered depending on what filtered df you want to use "
   ]
  },
  {
   "cell_type": "code",
   "execution_count": null,
   "id": "328f0775-47f4-41cb-895d-fc913233e253",
   "metadata": {},
   "outputs": [],
   "source": [
    "# plot tile coverage \n",
    "def tile_graph(data):   \n",
    "    plt.hist(data['Tiles'], bins=200)\n",
    "    plt.title('Intersected: Unique Tile Read Coverage Frequency')\n",
    "    plt.xlabel('Coverage')\n",
    "    plt.ylabel('Counts')\n",
    "    plt.savefig(f'{Lib_Name}_Intersected_Unique_Tiles', format=Fig_Format)\n",
    "    plt.show()\n",
    "\n",
    "tile_graph()#UPDATE input filtered_df or stringent_filtered depending on what filtered df you want to use "
   ]
  },
  {
   "cell_type": "code",
   "execution_count": null,
   "id": "6e844a13-7a4f-488e-a8f5-58b7fab612ec",
   "metadata": {},
   "outputs": [],
   "source": [
    "#create summary table\n",
    "summary_dict_df = pd.DataFrame.from_dict(summary_dict)\n",
    "summary_dict_df.to_csv(f'{Lib_Name}_Intersected_Summary.csv', index=False)"
   ]
  }
 ],
 "metadata": {
  "kernelspec": {
   "display_name": "Python 3 (ipykernel)",
   "language": "python",
   "name": "python3"
  },
  "language_info": {
   "codemirror_mode": {
    "name": "ipython",
    "version": 3
   },
   "file_extension": ".py",
   "mimetype": "text/x-python",
   "name": "python",
   "nbconvert_exporter": "python",
   "pygments_lexer": "ipython3",
   "version": "3.11.7"
  }
 },
 "nbformat": 4,
 "nbformat_minor": 5
}
