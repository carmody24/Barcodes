{
 "cells": [
  {
   "cell_type": "code",
   "execution_count": 10,
   "id": "94860b2a",
   "metadata": {},
   "outputs": [],
   "source": [
    "import pandas as pd\n",
    "import re\n",
    "import numpy as np\n",
    "import matplotlib.pyplot as plt"
   ]
  },
  {
   "cell_type": "code",
   "execution_count": null,
   "id": "e9dc849b-3f9a-496b-ab1b-4377b7bf2201",
   "metadata": {},
   "outputs": [],
   "source": [
    "#Global Variables\n",
    "Lib_Name = 'Lib_1' #UPDATE with library name or base name you want for your files\n",
    "Fig_Format = 'jpeg' #UPDATE default graph file format\n",
    "\n",
    "Seq_Rep_1 = 'path/to/rep1_Map3' #UPDATE pathway to seq rep 1 Map3 \n",
    "Seq_Rep_2 = 'path/to/rep2_Map3' #UPDATE pathway to seq rep 2 Map3\n",
    "\n",
    "Name_Rep1 = 'Rep1' #UPDATE default is rep1 but I like to change to sequencing index number \n",
    "Name_Rep2 = 'Rep2'#UPDATE default is rep2 but I like to change to sequencing index number \n",
    "\n",
    "#create summary tabble\n",
    "summary_dict = {'Category': [], 'Read Count': []}"
   ]
  },
  {
   "cell_type": "code",
   "execution_count": 16,
   "id": "bb802c94",
   "metadata": {},
   "outputs": [
    {
     "name": "stdout",
     "output_type": "stream",
     "text": [
      "(1013437, 3)\n",
      "combined df shape:\n",
      "(2094936, 4)\n",
      "The number of tb is25562\n",
      "New DataFrame with all columns:\n"
     ]
    },
    {
     "data": {
      "text/html": [
       "<div>\n",
       "<style scoped>\n",
       "    .dataframe tbody tr th:only-of-type {\n",
       "        vertical-align: middle;\n",
       "    }\n",
       "\n",
       "    .dataframe tbody tr th {\n",
       "        vertical-align: top;\n",
       "    }\n",
       "\n",
       "    .dataframe thead th {\n",
       "        text-align: right;\n",
       "    }\n",
       "</style>\n",
       "<table border=\"1\" class=\"dataframe\">\n",
       "  <thead>\n",
       "    <tr style=\"text-align: right;\">\n",
       "      <th></th>\n",
       "      <th>Tiles</th>\n",
       "      <th>AD BCs</th>\n",
       "      <th>Cat</th>\n",
       "      <th>Source</th>\n",
       "    </tr>\n",
       "  </thead>\n",
       "  <tbody>\n",
       "    <tr>\n",
       "      <th>0</th>\n",
       "      <td>GGCAGAAAGCTGGCCAGCACCACCCTGCCCGGCTATCCTCCTCACG...</td>\n",
       "      <td>GCACTGTTCAT</td>\n",
       "      <td>GGCAGAAAGCTGGCCAGCACCACCCTGCCCGGCTATCCTCCTCACG...</td>\n",
       "      <td>i21</td>\n",
       "    </tr>\n",
       "    <tr>\n",
       "      <th>1</th>\n",
       "      <td>CCTCCCGCCATCATCGACAAGACCTTCCAGGCCGGCATTCCCTTCA...</td>\n",
       "      <td>AAGGCCTTAAA</td>\n",
       "      <td>CCTCCCGCCATCATCGACAAGACCTTCCAGGCCGGCATTCCCTTCA...</td>\n",
       "      <td>i21</td>\n",
       "    </tr>\n",
       "    <tr>\n",
       "      <th>2</th>\n",
       "      <td>GCCCAGGACCTGGCCGCCGCCACCTTCCAGGCCGGCATTCCCTTCA...</td>\n",
       "      <td>CTGCACTCTCC</td>\n",
       "      <td>GCCCAGGACCTGGCCGCCGCCACCTTCCAGGCCGGCATTCCCTTCA...</td>\n",
       "      <td>i21</td>\n",
       "    </tr>\n",
       "    <tr>\n",
       "      <th>3</th>\n",
       "      <td>GGCAGAGACCTGGCCAGCACCACCCTGCCCGGCTATCCTCCTCACG...</td>\n",
       "      <td>CACCACCCACG</td>\n",
       "      <td>GGCAGAGACCTGGCCAGCACCACCCTGCCCGGCTATCCTCCTCACG...</td>\n",
       "      <td>i21</td>\n",
       "    </tr>\n",
       "    <tr>\n",
       "      <th>4</th>\n",
       "      <td>GGCAGAGACCTGGCCAGCACCACCCTGCCCGGCTATCCTCCTCACG...</td>\n",
       "      <td>CACCAACATCA</td>\n",
       "      <td>GGCAGAGACCTGGCCAGCACCACCCTGCCCGGCTATCCTCCTCACG...</td>\n",
       "      <td>i21</td>\n",
       "    </tr>\n",
       "    <tr>\n",
       "      <th>...</th>\n",
       "      <td>...</td>\n",
       "      <td>...</td>\n",
       "      <td>...</td>\n",
       "      <td>...</td>\n",
       "    </tr>\n",
       "    <tr>\n",
       "      <th>1081494</th>\n",
       "      <td>GGCAGAGACCTGGCCAGCACCACCCTGCCCGGCTATCCTCCTCACG...</td>\n",
       "      <td>ACCCCTACGTA</td>\n",
       "      <td>GGCAGAGACCTGGCCAGCACCACCCTGCCCGGCTATCCTCCTCACG...</td>\n",
       "      <td>i20</td>\n",
       "    </tr>\n",
       "    <tr>\n",
       "      <th>1081495</th>\n",
       "      <td>TCTCCCGGCGCCTGTCCCTACGGCACACCCGCCTCTCCCTACAGCG...</td>\n",
       "      <td>ACCTTTTCTCC</td>\n",
       "      <td>TCTCCCGGCGCCTGTCCCTACGGCACACCCGCCTCTCCCTACAGCG...</td>\n",
       "      <td>i20</td>\n",
       "    </tr>\n",
       "    <tr>\n",
       "      <th>1081496</th>\n",
       "      <td>GGCAGAGACCTGGCCAGCACCACCCTGCCCGGCTATCCTCCTCACG...</td>\n",
       "      <td>CCCCTCTCCCA</td>\n",
       "      <td>GGCAGAGACCTGGCCAGCACCACCCTGCCCGGCTATCCTCCTCACG...</td>\n",
       "      <td>i20</td>\n",
       "    </tr>\n",
       "    <tr>\n",
       "      <th>1081497</th>\n",
       "      <td>GACCAGAGCAACAGAGCCGGCGTGACCAGCAGCAGCTTCTTCGCCG...</td>\n",
       "      <td>CCCGCGAACAT</td>\n",
       "      <td>GACCAGAGCAACAGAGCCGGCGTGACCAGCAGCAGCTTCTTCGCCG...</td>\n",
       "      <td>i20</td>\n",
       "    </tr>\n",
       "    <tr>\n",
       "      <th>1081498</th>\n",
       "      <td>GGCAGAGACCTGGCCAGCACCACCCTGCCCGGCTATCCTCCTCACG...</td>\n",
       "      <td>ACAGCCACTTC</td>\n",
       "      <td>GGCAGAGACCTGGCCAGCACCACCCTGCCCGGCTATCCTCCTCACG...</td>\n",
       "      <td>i20</td>\n",
       "    </tr>\n",
       "  </tbody>\n",
       "</table>\n",
       "<p>2094936 rows × 4 columns</p>\n",
       "</div>"
      ],
      "text/plain": [
       "                                                     Tiles       AD BCs  \\\n",
       "0        GGCAGAAAGCTGGCCAGCACCACCCTGCCCGGCTATCCTCCTCACG...  GCACTGTTCAT   \n",
       "1        CCTCCCGCCATCATCGACAAGACCTTCCAGGCCGGCATTCCCTTCA...  AAGGCCTTAAA   \n",
       "2        GCCCAGGACCTGGCCGCCGCCACCTTCCAGGCCGGCATTCCCTTCA...  CTGCACTCTCC   \n",
       "3        GGCAGAGACCTGGCCAGCACCACCCTGCCCGGCTATCCTCCTCACG...  CACCACCCACG   \n",
       "4        GGCAGAGACCTGGCCAGCACCACCCTGCCCGGCTATCCTCCTCACG...  CACCAACATCA   \n",
       "...                                                    ...          ...   \n",
       "1081494  GGCAGAGACCTGGCCAGCACCACCCTGCCCGGCTATCCTCCTCACG...  ACCCCTACGTA   \n",
       "1081495  TCTCCCGGCGCCTGTCCCTACGGCACACCCGCCTCTCCCTACAGCG...  ACCTTTTCTCC   \n",
       "1081496  GGCAGAGACCTGGCCAGCACCACCCTGCCCGGCTATCCTCCTCACG...  CCCCTCTCCCA   \n",
       "1081497  GACCAGAGCAACAGAGCCGGCGTGACCAGCAGCAGCTTCTTCGCCG...  CCCGCGAACAT   \n",
       "1081498  GGCAGAGACCTGGCCAGCACCACCCTGCCCGGCTATCCTCCTCACG...  ACAGCCACTTC   \n",
       "\n",
       "                                                       Cat Source  \n",
       "0        GGCAGAAAGCTGGCCAGCACCACCCTGCCCGGCTATCCTCCTCACG...    i21  \n",
       "1        CCTCCCGCCATCATCGACAAGACCTTCCAGGCCGGCATTCCCTTCA...    i21  \n",
       "2        GCCCAGGACCTGGCCGCCGCCACCTTCCAGGCCGGCATTCCCTTCA...    i21  \n",
       "3        GGCAGAGACCTGGCCAGCACCACCCTGCCCGGCTATCCTCCTCACG...    i21  \n",
       "4        GGCAGAGACCTGGCCAGCACCACCCTGCCCGGCTATCCTCCTCACG...    i21  \n",
       "...                                                    ...    ...  \n",
       "1081494  GGCAGAGACCTGGCCAGCACCACCCTGCCCGGCTATCCTCCTCACG...    i20  \n",
       "1081495  TCTCCCGGCGCCTGTCCCTACGGCACACCCGCCTCTCCCTACAGCG...    i20  \n",
       "1081496  GGCAGAGACCTGGCCAGCACCACCCTGCCCGGCTATCCTCCTCACG...    i20  \n",
       "1081497  GACCAGAGCAACAGAGCCGGCGTGACCAGCAGCAGCTTCTTCGCCG...    i20  \n",
       "1081498  GGCAGAGACCTGGCCAGCACCACCCTGCCCGGCTATCCTCCTCACG...    i20  \n",
       "\n",
       "[2094936 rows x 4 columns]"
      ]
     },
     "metadata": {},
     "output_type": "display_data"
    }
   ],
   "source": [
    "df1 = pd.read_csv(Seq_Rep_1) \n",
    "df2 = pd.read_csv(Seq_Rep_2)  \n",
    "\n",
    "summary_dict['Category'].append(f'{Name_Rep1} Map3 Shape')\n",
    "summary_dict['Read Count'].append(df1.shape[0])\n",
    "\n",
    "summary_dict['Category'].append(f'{Name_Rep2} Map3 Shape')\n",
    "summary_dict['Read Count'].append(df2.shape[0])\n",
    "\n",
    "print(f'{Name_Rep1} Map3 Shape: {df1.shape[0]}')\n",
    "print(f'{Name_Rep2} Map3 Shape: {df2.shape[0]}')\n",
    "\n",
    "# Add a column to indicate the source DataFrame\n",
    "df1['Source'] = Name_Rep1\n",
    "df2['Source'] = Name_Rep2\n",
    "\n",
    "combined_df = pd.concat([df1, df2]) \n",
    "\n",
    "summary_dict['Category'].append(f'Merged seq reps Map3 Shape')\n",
    "summary_dict['Read Count'].append(combined_df.shape[0])\n",
    "\n",
    "print(f'Merged df shape:{combined_df.shape[0]}')\n",
    "\n",
    "unique_sequences = combined_df['Cat'].nunique()\n",
    "unique_sequences_r1 = df1['Cat'].nunique()\n",
    "unique_sequences_r2 = df2['Cat'].nunique()\n",
    "\n",
    "summary_dict['Category'].append(f'{Name_Rep1} Map3 unique tile + bc1 combinations')\n",
    "summary_dict['Read Count'].append(unique_sequences_r1)\n",
    "\n",
    "summary_dict['Category'].append(f'{Name_Rep2} Map3 unique tile + bc1 combinations')\n",
    "summary_dict['Read Count'].append(unique_sequences_r2)\n",
    "\n",
    "summary_dict['Category'].append(f'Merged seq reps Map3 unique tile + bc1 combinations')\n",
    "summary_dict['Read Count'].append(unique_sequences)\n",
    "\n",
    "print(f\"Number of unique tile + bc1 in {Name_Rep1} df: {unique_sequences_r1}\")\n",
    "print(f\"Number of unique tile + bc1 in {Name_Rep2} df: {unique_sequences_r2}\")\n",
    "print(f\"Number of unique tile + bc1 in merged df: {unique_sequences}\")\n",
    "\n",
    "#display(combined_df)"
   ]
  },
  {
   "cell_type": "code",
   "execution_count": 4,
   "id": "42adf7b1-5107-49a5-8319-acee743bdb88",
   "metadata": {},
   "outputs": [],
   "source": [
    "combined_df.to_csv(f'{Lib_Name}_merged_Map3.csv', index=False) #UPDATE if you want a diff output file name for merged Map3"
   ]
  },
  {
   "cell_type": "code",
   "execution_count": null,
   "id": "af3ead11-57bf-4257-bc24-07f17984b0db",
   "metadata": {},
   "outputs": [],
   "source": [
    "# Filter out rows where bc1 maps to multiple tiles but will keep if 90% of the times the bc1 appears it is with 1 tile\n",
    "grouped = combined_df.groupby('AD BCs')['Tiles'].value_counts().reset_index(name='count')\n",
    "total_counts = grouped.groupby('AD BCs')['count'].sum().reset_index(name='total_count')\n",
    "grouped = grouped.merge(total_counts, on='AD BCs')\n",
    "grouped['percentage'] = grouped['count'] / grouped['total_count']\n",
    "to_keep = grouped[grouped['percentage'] >= 0.9] #you can modify this to be more strigent but wouldn't make more permisive \n",
    "filtered_df = combined_df.merge(to_keep[['AD BCs', 'Tiles']], on=['AD BCs', 'Tiles'], how='inner')\n",
    "\n",
    "# Count unique Tiles after filtering\n",
    "final_unique_tiles = filtered_df['Tiles'].nunique()\n",
    "final_unique_tbc1 = filtered_df['Cat'].nunique()\n",
    "\n",
    "summary_dict['Category'].append(f'Merged Map3 unique Tiles after removing bc1 that map to multiple tiles <90% of the time')\n",
    "summary_dict['Read Count'].append(final_unique_tiles)\n",
    "\n",
    "summary_dict['Category'].append(f'Merged Map3 unique Tile + bc1 combinations after removing bc1 that map to multiple tiles <90% of the time')\n",
    "summary_dict['Read Count'].append(final_unique_tbc1)\n",
    "\n",
    "\n",
    "print(f\"Number of Tiles after >90% map to 1 bc1 filter: {final_unique_tiles}\")\n",
    "print(f\"Number of unique Tile + bc1 combinations after >90% map to 1 bc1 filter: {final_unique_tbc1}\")\n",
    "\n",
    "#filtered_df.to_csv(f'{Lib_Name}_merged_Map3_filtered.csv', index=False) #UPDATE uncomment if you want a filtered csv file made"
   ]
  },
  {
   "cell_type": "code",
   "execution_count": 7,
   "id": "09a8eb02-a5a6-4fb6-8da7-b27f061ef321",
   "metadata": {},
   "outputs": [
    {
     "name": "stdout",
     "output_type": "stream",
     "text": [
      "Number of sequences removed: 953415\n"
     ]
    },
    {
     "data": {
      "text/plain": [
       "(1141521, 4)"
      ]
     },
     "execution_count": 7,
     "metadata": {},
     "output_type": "execute_result"
    }
   ],
   "source": [
    "#more stringent filter removing any barcodes that  map to multiple tiles \n",
    "# Group by 'AD BCs' and check if there's more than one unique 'Tiles' within each group\n",
    "rows_to_remove = combined_df.groupby('AD BCs').filter(lambda x: x['Tiles'].nunique() > 1)\n",
    "\n",
    "# Remove those rows from the original dataframe\n",
    "stringent_filtered = combined_df.drop(rows_to_remove.index)\n",
    "\n",
    "# Count unique Tiles after filtering\n",
    "final_unique_tiles_2 = stringent_filtered['Tiles'].nunique()\n",
    "final_unique_tbc1_2 = stringent_filtered['Cat'].nunique()\n",
    "\n",
    "summary_dict['Category'].append(f'Merged Map3 unique Tiles after stringent')\n",
    "summary_dict['Read Count'].append(final_unique_tiles_2)\n",
    "\n",
    "summary_dict['Category'].append(f'Merged Map3 unique Tile + bc1 combinations after stringent')\n",
    "summary_dict['Read Count'].append(final_unique_tbc1_2)\n",
    "\n",
    "\n",
    "print(f\"Number of Tiles after stringent filter: {final_unique_tiles_2}\")\n",
    "print(f\"Number of unique Tile + bc1 combinations after stringent filter: {final_unique_tbc1_2}\")\n",
    "\n",
    "#stringent_filtered.to_csv(f'{Lib_Name}_merged_Map3_stringent_filtered.csv', index=False) #UPDATE uncomment if you want a stringent filtered csv file made"
   ]
  },
  {
   "cell_type": "code",
   "execution_count": 12,
   "id": "efeaead3-7f90-48f1-bcdc-3e89fd38cbde",
   "metadata": {},
   "outputs": [
    {
     "data": {
      "image/png": "[encoded data removed]",
      "text/plain": [
       "<Figure size 640x480 with 1 Axes>"
      ]
     },
     "metadata": {},
     "output_type": "display_data"
    }
   ],
   "source": [
    "# plot tile+bc1 coverage on histogram LOG\n",
    "def tbc_graph(data):\n",
    "    plt.figure()\n",
    "    plt.title(f'{Lib_Name }Merged: Unique Tile + BC Read Coverage Frequency')\n",
    "    plt.hist(data['Cat'],  bins=100)\n",
    "    plt.xlabel('Coverage')\n",
    "    plt.ylabel('Counts')\n",
    "    plt.xscale('log')\n",
    "    plt.yscale('log')\n",
    "    plt.savefig(f'{Lib_Name}_Unique_Tile_with_bc1', format=Fig_Format)\n",
    "    plt.show()\n",
    "\n",
    "tbc_graph()#UPDATE input filtered_df or stringent_filtered depending on what filtered df you want to use "
   ]
  },
  {
   "cell_type": "code",
   "execution_count": 13,
   "id": "831a72c9-8528-4e65-a0bb-61859b345bc6",
   "metadata": {},
   "outputs": [
    {
     "data": {
      "image/png": "[encoded data removed]",
      "text/plain": [
       "<Figure size 640x480 with 1 Axes>"
      ]
     },
     "metadata": {},
     "output_type": "display_data"
    }
   ],
   "source": [
    "# plot tile coverage \n",
    "def tile_graph(data):   \n",
    "    plt.hist(data['Tiles'], bins=200)\n",
    "    plt.title('Intersect: Unique Tile Read Coverage Frequency')\n",
    "    plt.xlabel('Coverage')\n",
    "    plt.ylabel('Counts')\n",
    "    plt.savefig(f'{Lib_Name}_Unique_Tiles', format=Fig_Format)\n",
    "    plt.show()\n",
    "\n",
    "tile_graph()#UPDATE input filtered_df or stringent_filtered depending on what filtered df you want to use "
   ]
  },
  {
   "cell_type": "code",
   "execution_count": null,
   "id": "6e844a13-7a4f-488e-a8f5-58b7fab612ec",
   "metadata": {},
   "outputs": [],
   "source": [
    "#create summary table\n",
    "summary_dict_df = pd.DataFrame.from_dict(summary_dict)\n",
    "summary_dict_df.to_csv(f'{Lib_Name}_Summary', index=False)"
   ]
  }
 ],
 "metadata": {
  "kernelspec": {
   "display_name": "Python 3 (ipykernel)",
   "language": "python",
   "name": "python3"
  },
  "language_info": {
   "codemirror_mode": {
    "name": "ipython",
    "version": 3
   },
   "file_extension": ".py",
   "mimetype": "text/x-python",
   "name": "python",
   "nbconvert_exporter": "python",
   "pygments_lexer": "ipython3",
   "version": "3.11.7"
  }
 },
 "nbformat": 4,
 "nbformat_minor": 5
}
