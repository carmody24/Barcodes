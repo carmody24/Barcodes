{
 "cells": [
  {
   "cell_type": "code",
   "execution_count": null,
   "id": "94860b2a",
   "metadata": {},
   "outputs": [],
   "source": [
    "import pandas as pd\n",
    "import re\n",
    "import numpy as np\n",
    "import os\n",
    "import matplotlib.pyplot as plt\n",
    "import seaborn as sns"
   ]
  },
  {
   "cell_type": "code",
   "execution_count": null,
   "id": "c587736e-9bf4-4f9e-9597-b632d714079f",
   "metadata": {},
   "outputs": [],
   "source": [
    "#Global Variables\n",
    "Lib_Name = 'Lib_1' #UPDATE with library name or base name you want for your files\n",
    "Fig_Format = 'jpeg' #UPDATE default graph file format\n",
    "\n",
    "fastq_file_path = 'path/to/paired/fastq/file'#UPDATE with file path to your paired seq reads (fastq)\n",
    "\n",
    "design_file_txt = 'path/to/design_file.txt'#UPDATE with design file containing your designed tiles as a txt file\n",
    "\n",
    "Name_Rep1 = 'Rep1' #UPDATE default is rep1 but I like to change to sequencing index number \n",
    "Name_Rep2 = 'Rep2'#UPDATE default is rep2 but I like to change to sequencing index number \n",
    "\n",
    "Output_Directory = f'{Lib_Name}_Maps_and_Graphs'\n",
    "os.makedirs(Output_Directory, exist_ok=True)\n",
    "\n",
    "#create summary tabble\n",
    "summary_dict = {'Category': [], 'Read Count': []}"
   ]
  },
  {
   "cell_type": "code",
   "execution_count": null,
   "id": "013202ad-29c1-4d23-98ed-f4542bd5d6d3",
   "metadata": {},
   "outputs": [],
   "source": [
    "def find_designed(des):\n",
    "    \"\"\"Creates a lookup dictionary of all designed tiles from a file.\"\"\"\n",
    "    dt = []\n",
    "    with open(des, 'r') as f_des:\n",
    "        for line in f_des:\n",
    "            leftReplace = line.replace(\"CCCAGCTTAAGCCACCATG\", \"\") #UPDATE to match seq flanking your tiles in the design file, usually primer homology extensions\n",
    "            rightReplace = leftReplace.replace(\"gGATCCGAGCTCGCTAGC\\n\", \"\") #UPDATE to match seq flanking your tiles in the design file, usually primer homology extensions\n",
    "            dt.append(rightReplace.strip())\n",
    "    return {tile: 1 for tile in dt}\n",
    "\n",
    "def getmid(seq, pre, post):\n",
    "    \"\"\"Extracts the sequence between pre and post substrings.\"\"\"\n",
    "    match = re.search(f\"{pre}(.*){post}\", seq)\n",
    "    return match.group(1) if match else \"X\" #puts and X if the pre and/or post seq cannot be found \n",
    "    \n",
    "def tilebc_mapper(readfile, dtd, t_len=120, bc1_len=11, tile_pre=\"CACCATG\", tile_post=\"GGATCCG\",\n",
    "                  bc1_pre=\"CGCTAGC\", bc1_post=\"CTCGAGA\"):  #UPDATE you need to change the correct tile length (t_len)and BC1 length (bc1_len) and the pre and post sequences flanking them\n",
    "    \"\"\"Processes input sequences to map tiles and barcodes.\"\"\"  \n",
    "    \n",
    "    # Lists to store extracted data  \n",
    "    tile_list, tile_lengths, tq_list, des_query = [], [], [], []  \n",
    "    bc1_list, bc1_lengths, bc1q_list = [], [], []  \n",
    "    total_sequences = 0  # Track the number of reads processed  \n",
    "    sequences =[]\n",
    "\n",
    "    with open(readfile, 'r') as fin:  # Reads paired fastq file and extracts the reads  \n",
    "        for line in fin:  \n",
    "            if line.startswith('@'):  # Identifies the sequence header  \n",
    "                seq = next(fin).strip()  # Reads the actual sequence  \n",
    "                sequences.append(seq) # adds seq to reads list \n",
    "                total_sequences += 1  \n",
    "\n",
    "                # Identify Tile and BC1 based on pre and post sequences and check length  \n",
    "                tile = getmid(seq, tile_pre, tile_post)  \n",
    "                tile_len = len(tile)  \n",
    "                tile_quality = 1 if tile_len == t_len else 0  # Quality column given 1 if length matches expected length, otherwise 0  \n",
    "                tile_is_designed = 1 if tile in dtd else 0  # Checks if the tile is in the design dictionary  \n",
    "\n",
    "                adBC = getmid(seq, bc1_pre, bc1_post)  \n",
    "                adBC_len = len(adBC)  \n",
    "                adBC_quality = 1 if adBC_len == bc1_len else 0  # Quality column for BC1, 1 if length matches expected length otherwise 0  \n",
    "\n",
    "                # Store extracted values  \n",
    "                tile_list.append(tile)  \n",
    "                tile_lengths.append(tile_len)  \n",
    "                tq_list.append(tile_quality)  \n",
    "                des_query.append(tile_is_designed)  \n",
    "\n",
    "                bc1_list.append(adBC)  \n",
    "                bc1_lengths.append(adBC_len)  \n",
    "                bc1q_list.append(adBC_quality)  \n",
    "\n",
    "    # Create DataFrame containing all extracted information  \n",
    "    tileBC_df = pd.DataFrame({  \n",
    "        \"Reads\": sequences,\n",
    "        \"Tiles\": tile_list,  \n",
    "        \"T Len\": tile_lengths,  \n",
    "        \"T Qual\": tq_list,  \n",
    "        \"Designed\": des_query,  \n",
    "        \"AD BCs\": bc1_list,  \n",
    "        \"A Len\": bc1_lengths,  \n",
    "        \"A Qual\": bc1q_list  \n",
    "    })   \n",
    "\n",
    "    return tileBC_df"
   ]
  },
  {
   "cell_type": "code",
   "execution_count": null,
   "id": "2d325a4b-dafa-415c-b635-2d21ffc0ecbe",
   "metadata": {},
   "outputs": [],
   "source": [
    "def process_maps(input_file, design_file):\n",
    "    designed_tile_dict = find_designed(design_file)\n",
    "    map1 = tilebc_mapper(input_file, designed_tile_dict)"
   ]
  },
  {
   "cell_type": "code",
   "execution_count": null,
   "id": "b9c0d1eb-f524-4845-9889-c595c37c9a81",
   "metadata": {},
   "outputs": [],
   "source": [
    "process_maps(fastq_file_path, design_file_txt)"
   ]
  },
  {
   "cell_type": "markdown",
   "id": "79350a48",
   "metadata": {},
   "source": [
    "### Output df has all reads from the seqfile\n",
    "\n",
    "map1 is the original df"
   ]
  },
  {
   "cell_type": "code",
   "execution_count": null,
   "id": "6fe0bf82",
   "metadata": {},
   "outputs": [],
   "source": [
    "#export the Map1 LUT\n",
    "map1.to_csv(os.path.join(Output_Directory, f'{Lib_Name}_map1.csv'), index=False)"
   ]
  },
  {
   "cell_type": "code",
   "execution_count": null,
   "id": "39059d58-a6a7-4d02-b688-dfc0fc2cc8db",
   "metadata": {},
   "outputs": [],
   "source": [
    "#below are seires of analysis on the loook up table that was created "
   ]
  },
  {
   "cell_type": "code",
   "execution_count": null,
   "id": "3e615e2e-dbe8-4c46-8de8-f8a6cb8fe476",
   "metadata": {},
   "outputs": [],
   "source": [
    "#tiles in design file\n",
    "summary_dict['Category'].append('Tiles in Design File')\n",
    "summary_dict['Read Count'].append(len(designed_tile_dict))\n",
    "print(f'Number of Tiles in Design file {len(designed_tile_dict)}')"
   ]
  },
  {
   "cell_type": "code",
   "execution_count": null,
   "id": "c324a452-3cde-4ebb-81fb-a6ec6e74c778",
   "metadata": {},
   "outputs": [],
   "source": [
    "#count reads with correct tile length, BC lenngth, and are in designed file\n",
    "count_rows_t = ((map1['T Qual'] == 1)).sum()\n",
    "\n",
    "summary_dict['Category'].append(f'Reads with Correct Tile Length')\n",
    "summary_dict['Read Count'].append(count_rows_t)\n",
    "\n",
    "print(\"Number of rows with 1 in T Qual :\", count_rows_t)"
   ]
  },
  {
   "cell_type": "code",
   "execution_count": null,
   "id": "31c7c94c-4c7d-47f0-a187-09afbf1760d9",
   "metadata": {},
   "outputs": [],
   "source": [
    "#count reads with correct tile length, BC lenngth, and are in designed file\n",
    "count_rows_d = ((map1['Designed'] == 1)).sum()\n",
    "\n",
    "summary_dict['Category'].append(f'Reads with Tile in the design file')\n",
    "summary_dict['Read Count'].append(count_rows_d)\n",
    "\n",
    "print(\"Number of rows with 1 in Designed :\", count_rows_d)"
   ]
  },
  {
   "cell_type": "code",
   "execution_count": null,
   "id": "ea9e405b-439c-4d5a-be21-4648136f7e95",
   "metadata": {},
   "outputs": [],
   "source": [
    "#count reads with correct tile length, BC lenngth, and are in designed file\n",
    "count_rows_a = ((map1['A Qual'] == 1)).sum()\n",
    "\n",
    "summary_dict['Category'].append(f'Reads with Correct BC1 Length')\n",
    "summary_dict['Read Count'].append(count_rows_a)\n",
    "\n",
    "print(\"Number of rows with 1 in A Qual :\", count_rows_a)"
   ]
  },
  {
   "cell_type": "code",
   "execution_count": null,
   "id": "2a5ebb27-0881-425b-b3d3-c859fb0f1c62",
   "metadata": {},
   "outputs": [],
   "source": [
    "#count reads with correct tile length, BC lenngth, and are in designed file\n",
    "count_rows_one = len(map1[(map1['T Qual'] == 1) & (map1['A Qual'] == 1)])\n",
    "\n",
    "summary_dict['Category'].append(f'Rows with correct Tile length and BC1 length')\n",
    "summary_dict['Read Count'].append(count_rows_one)\n",
    "\n",
    "print(\"Number of rows with 1 in T Qual and A Qual:\", count_rows_one)"
   ]
  },
  {
   "cell_type": "code",
   "execution_count": null,
   "id": "dc7c54de-af57-4349-aa53-ca5962002594",
   "metadata": {},
   "outputs": [],
   "source": [
    "#count reads with correct tile length, BC lenngth, and are in designed file\n",
    "count_rows = len(map1[(map1['T Qual'] == 1) & (map1['A Qual'] == 1) & (map1['Designed'] == 1)])\n",
    "\n",
    "summary_dict['Category'].append(f'Rows with correct Tile length, BC1 length, and Tile is in design file')\n",
    "summary_dict['Read Count'].append(count_rows)\n",
    "\n",
    "print(\"Number of rows with 1 in T Qual, A Qual, and Designed:\", count_rows)"
   ]
  },
  {
   "cell_type": "code",
   "execution_count": null,
   "id": "a5f0ad0b",
   "metadata": {},
   "outputs": [],
   "source": [
    "#plot tile length histogram\n",
    "plt.hist(map1['T Len'])\n",
    "plt.xlim([0, 200]) #UPDATE if your tile length won't fit in this range\n",
    "plt.title(f'{Lib_Name } Tile Length Frequency')\n",
    "plt.xlabel('T Length')\n",
    "plt.ylabel('Frequency')\n",
    "plt.savefig(os.path.join(Output_Directory, f'{Lib_Name}_T_Length.{Fig_Format}'))\n",
    "plt.show()\n"
   ]
  },
  {
   "cell_type": "code",
   "execution_count": null,
   "id": "bc8174f3",
   "metadata": {},
   "outputs": [],
   "source": [
    "#plot tile qual as histogram\n",
    "plt.hist(map1['T Qual'])\n",
    "plt.title(f'{Lib_Name } Tile Quality Frequency')\n",
    "plt.xlabel('T Qual')\n",
    "plt.ylabel('Frequency')\n",
    "plt.savefig(os.path.join(Output_Directory, f'{Lib_Name}_T_Quality.{Fig_Format}'))\n",
    "plt.show()"
   ]
  },
  {
   "cell_type": "code",
   "execution_count": null,
   "id": "8cb6f30c",
   "metadata": {},
   "outputs": [],
   "source": [
    "# plot AD BC len\n",
    "plt.hist(map1['A Len'], bins=100)\n",
    "plt.xlim([0, 20]) #UPDATE if your bc1 length won't fit in this range\n",
    "plt.title(f'{Lib_Name } BC1 Length Frequency')\n",
    "plt.xlabel('BC1 Length')\n",
    "plt.ylabel('Frequency')\n",
    "plt.savefig(os.path.join(Output_Directory, f'{Lib_Name}_bc1_length.{Fig_Format}'))\n",
    "plt.show()"
   ]
  },
  {
   "cell_type": "code",
   "execution_count": null,
   "id": "b53b9452-26c1-4f9a-8cb7-4598d5158401",
   "metadata": {},
   "outputs": [],
   "source": [
    "#plot bc1 qual as histogram\n",
    "\n",
    "plt.hist(map1['A Qual'])\n",
    "plt.title(f'{Lib_Name } BC1 Quality Frequency')\n",
    "plt.xlabel('A Qual')\n",
    "plt.ylabel('Frequency')\n",
    "plt.savefig(os.path.join(Output_Directory, f'{Lib_Name}_bc1_Quality.{Fig_Format}'))\n",
    "plt.show()"
   ]
  },
  {
   "cell_type": "markdown",
   "id": "9598da15",
   "metadata": {},
   "source": [
    "### Filtering out reads that either do not have the consensus sequences to find the tiles/BCs OR have tiles/BCs of unexpected lengths\n",
    "\n",
    "map2 is the df with only tiles that match designed and where BC lengths are as expected. All length and quality columns are dropped, as well as the column that stored the full read strings."
   ]
  },
  {
   "cell_type": "code",
   "execution_count": null,
   "id": "469e4e47",
   "metadata": {},
   "outputs": [],
   "source": [
    "\n",
    "#Replace all 0s in map1 with NaN to filter out any Qual=0 reads\n",
    "map1_nans = map1.replace(0, np.nan)\n",
    "map2 = map1_nans.dropna().reset_index()\n",
    "\n",
    "#get rid of some now useless columns\n",
    "clabels = ['index','Reads', 'T Len','T Qual', 'Designed', 'A Len','A Qual']\n",
    "map2 = map2.drop(clabels, axis = 1)\n",
    "\n",
    "\n",
    "# how many reads are lost? rc = readcount\n",
    "rcmap1 = map1.shape[0]\n",
    "rcmap2 = map2.shape[0]\n",
    "diffpct = ((rcmap1 - rcmap2) / rcmap1)*100\n",
    "print(\"% Reads lost:\")\n",
    "print(diffpct)\n",
    "\n",
    "summary_dict['Category'].append(f'Map1 Shape')\n",
    "summary_dict['Read Count'].append(rcmap2)\n"
   ]
  },
  {
   "cell_type": "markdown",
   "id": "7409dbc9",
   "metadata": {},
   "source": [
    "### Coverage\n",
    "map3 is a df with tiles, BCs, and combos of tiles and BCs"
   ]
  },
  {
   "cell_type": "code",
   "execution_count": null,
   "id": "f692d5e6",
   "metadata": {},
   "outputs": [],
   "source": [
    "map3 = map2.copy()\n",
    "map3.head()"
   ]
  },
  {
   "cell_type": "code",
   "execution_count": null,
   "id": "6a4a3821",
   "metadata": {},
   "outputs": [],
   "source": [
    "#Add column that connects BC1 to the Tile it is paired with (Cat for concatenation) \n",
    "adcol = map3['AD BCs'].copy()\n",
    "\n",
    "map3['Cat'] = map3['Tiles'].str.cat(adcol, sep=\"-\")\n",
    "\n",
    "summary_dict['Category'].append(f'Map3 Shape')\n",
    "summary_dict['Read Count'].append(map3.shape[0])"
   ]
  },
  {
   "cell_type": "code",
   "execution_count": null,
   "id": "b055bd62",
   "metadata": {},
   "outputs": [],
   "source": [
    "#Frequency of each tile-bc combo\n",
    "\n",
    "tbcov = map3['Cat'].value_counts().to_frame().reset_index()\n",
    "\n",
    "summary_dict['Category'].append(f'Unique Tile+BC1 coverage')\n",
    "summary_dict['Read Count'].append(tbcov.shape[0])\n",
    "\n",
    "print(f'number unique tb combos:{tbcov.shape[0]}')\n",
    "\n"
   ]
  },
  {
   "cell_type": "code",
   "execution_count": null,
   "id": "033f364c",
   "metadata": {},
   "outputs": [],
   "source": [
    "# plot tb coverage on histogram\n",
    "plt.figure()\n",
    "plt.title(f'{Lib_Name} Unique Tile + BC Read Coverage Frequency')\n",
    "plt.hist(tbcov['Cat'],  bins=75)\n",
    "plt.xlabel('Coverage')\n",
    "plt.ylabel('Counts')\n",
    "plt.savefig(os.path.join(Output_Directory, f'{Lib_Name}}_tbc1_cov.{Fig_Format}'))\n",
    "plt.show()"
   ]
  },
  {
   "cell_type": "code",
   "execution_count": null,
   "id": "eb75186d",
   "metadata": {},
   "outputs": [],
   "source": [
    "# Unique Tile coverage\n",
    "tcov = map2['Tiles'].value_counts().to_frame().reset_index()\n",
    "\n",
    "summary_dict['Category'].append(f'Unique Tile coverage')\n",
    "summary_dict['Read Count'].append(tcov.shape[0])\n",
    "\n",
    "print (f'Unique Tiles: {tcov.shape[0]}')"
   ]
  },
  {
   "cell_type": "code",
   "execution_count": null,
   "id": "bb45f5dc",
   "metadata": {},
   "outputs": [],
   "source": [
    "# plot tile coverage \n",
    "plt.hist(tcov['Tiles'], bins=100)\n",
    "plt.title('Unique Tile Coverage Frequency')\n",
    "plt.xlabel('Coverage')\n",
    "plt.ylabel('Counts')\n",
    "plt.savefig(os.path.join(Output_Directory, f'{Lib_Name}}_t_cov.{Fig_Format}'))\n",
    "plt.show()"
   ]
  },
  {
   "cell_type": "code",
   "execution_count": null,
   "id": "d6f1336b",
   "metadata": {
    "scrolled": true
   },
   "outputs": [],
   "source": [
    "#Unique ad bc coverage\n",
    "abcov = map3['AD BCs'].value_counts().to_frame().reset_index()\n",
    "\n",
    "summary_dict['Category'].append(f'Unique bc1')\n",
    "summary_dict['Read Count'].append(abcov.shape[0])\n",
    "\n",
    "print(f'Unique BC1: {abcov.shape[0]}') # number unique ad bcs\n"
   ]
  },
  {
   "cell_type": "code",
   "execution_count": null,
   "id": "09d2358a",
   "metadata": {},
   "outputs": [],
   "source": [
    "# plot ad bc coverage \n",
    "plt.hist(abcov['AD BCs'], bins=100)\n",
    "plt.title(f'{Lib_Name} Unique BC1 Read Coverage Frequency')\n",
    "plt.xlabel('Coverage')\n",
    "plt.ylabel('Counts')\n",
    "plt.savefig(os.path.join(Output_Directory, f'{Lib_Name}}_bc1_cov.{Fig_Format}'))\n",
    "plt.show()"
   ]
  },
  {
   "cell_type": "code",
   "execution_count": null,
   "id": "bb802c94",
   "metadata": {},
   "outputs": [],
   "source": [
    "#make csv of map3\n",
    "map3.to_csv(os.path.join(Output_Directory, f'{Lib_Name}_map3.csv'), index=False)"
   ]
  },
  {
   "cell_type": "code",
   "execution_count": null,
   "id": "cd1f5ad0-699d-4ae6-9f46-837997f4cba9",
   "metadata": {},
   "outputs": [],
   "source": [
    "#create summary table\n",
    "summary_dict_df = pd.DataFrame.from_dict(summary_dict)\n",
    "summary_dict_df.to_csv(os.path.join(Output_Directory, f'{Lib_Name}_LUT_Summary.csv'), index=False)"
   ]
  }
 ],
 "metadata": {
  "kernelspec": {
   "display_name": "Python 3 (ipykernel)",
   "language": "python",
   "name": "python3"
  },
  "language_info": {
   "codemirror_mode": {
    "name": "ipython",
    "version": 3
   },
   "file_extension": ".py",
   "mimetype": "text/x-python",
   "name": "python",
   "nbconvert_exporter": "python",
   "pygments_lexer": "ipython3",
   "version": "3.11.7"
  }
 },
 "nbformat": 4,
 "nbformat_minor": 5
}
