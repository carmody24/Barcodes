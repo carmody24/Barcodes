{
 "cells": [
  {
   "cell_type": "code",
   "execution_count": null,
   "id": "94860b2a",
   "metadata": {},
   "outputs": [],
   "source": [
    "import pandas as pd\n",
    "import re\n",
    "import numpy as np\n",
    "import os\n",
    "import matplotlib.pyplot as plt\n",
    "import seaborn as sns"
   ]
  },
  {
   "cell_type": "code",
   "execution_count": null,
   "id": "c587736e-9bf4-4f9e-9597-b632d714079f",
   "metadata": {},
   "outputs": [],
   "source": [
    "#Global Variables\n",
    "Lib_Name = 'Lib_1' #UPDATE with library name or base name you want for your files\n",
    "Fig_Format = 'jpeg' #UPDATE default graph file format\n",
    "\n",
    "fastq_file_path = 'myseqdata.fastq'#UPDATE with file path to your paired seq reads (fastq)\n",
    "\n",
    "design_file_txt = 'list_of_my_Designed_seq.txt'#UPDATE with design file containing your list of designed DNA seq or tiles as a txt file\n",
    "\n",
    "Threshold = 5 #UPDATE minimum read threshold you want to filter for \n",
    "\n",
    "Output_Directory = f'{Lib_Name}_Maps_and_Graphs' #UPDATE name you want your output directory for all your files to go \n",
    "os.makedirs(Output_Directory, exist_ok=True)\n",
    "\n",
    "#create summary tabble\n",
    "summary_dict = {'Category': [], 'Read Count': []}"
   ]
  },
  {
   "cell_type": "code",
   "execution_count": null,
   "id": "68a96648-194c-4890-9113-b0cf1f5a4e0b",
   "metadata": {},
   "outputs": [],
   "source": [
    "def find_designed(des):\n",
    "    \"\"\"Creates a lookup dictionary of all designed tiles from a file.\"\"\"\n",
    "    dt = []\n",
    "    with open(des, 'r') as f_des:\n",
    "        for line in f_des:\n",
    "            # Remove the left primer\n",
    "            left_trimmed = line.replace(\"CCCAGCTTAAGCCACCATG\", \"\") #UPDATE with the left sequence you want to trim from all of the tiles in your design file, usually the primer adapting part that is not a part of the unique design\n",
    "            \n",
    "            # Remove everything after (and including) the right sequence\n",
    "            right_trimmed = left_trimmed.split(\"GGATCCGAGCTCG\")[0] #UPDATE with the right sequence you want to trim NOTE this removes the seq AND everything after it you can change to .replace like the left side if you just want to remove the seq\n",
    "            \n",
    "            dt.append(right_trimmed.strip())\n",
    "    return {tile: 1 for tile in dt}\n"
   ]
  },
  {
   "cell_type": "code",
   "execution_count": null,
   "id": "013202ad-29c1-4d23-98ed-f4542bd5d6d3",
   "metadata": {},
   "outputs": [],
   "source": [
    "def getmid(seq, pre, post):\n",
    "    \"\"\"Extracts the sequence between pre and post substrings.\"\"\"\n",
    "    match = re.search(f\"{pre}(.*){post}\", seq)\n",
    "    return match.group(1) if match else \"X\"\n",
    "\n",
    "def tilebc_mapper(readfile, dtd, t_len=6, bc1_len=9, bc3_len=16, designed_len=162, #UPDATE change to all the appropriate flanking seq and lengths \n",
    "                  bc1_pre=\"GAGCTCGCTAGC\", bc1_post=\"CTCGAGATAA\",\n",
    "                  bc2_pre=\"CTCGAGATAACTTCGTATAATGTATGCTAT\", bc2_post=\"GGCCGGCCATAGGGCCCC\",\n",
    "                  bc3_pre=\"GGCCGGCCATAGGGCCCC\", bc3_post=\"GCGGTCCA\",\n",
    "                  designed_pre=\"CACCATG\", designed_post=\"GGATCCG\"): \n",
    "    \"\"\"Processes input sequences to map tiles, BC1, BC3s, and Designed sequences.\"\"\"\n",
    "\n",
    "    # Lists to store extracted data\n",
    "    tile_list, tile_lengths, tq_list = [], [], []\n",
    "    bc1_list, bc1_lengths, bc1q_list = [], [], []\n",
    "    bc3_list, bc3_lengths, bc3q_list = [], [], []\n",
    "    designed_list, designed_lengths, designedq_list = [], [], []\n",
    "    sequences = []\n",
    "    total_sequences = 0\n",
    "\n",
    "    with open(readfile, 'r') as fin:\n",
    "        for line in fin:\n",
    "            if line.startswith('@'):\n",
    "                seq = next(fin).strip()\n",
    "                sequences.append(seq)\n",
    "                total_sequences += 1\n",
    "\n",
    "                # Extract Tile\n",
    "                tile = getmid(seq, bc2_pre, bc2_post)\n",
    "                tile_len = len(tile)\n",
    "                tile_quality = 1 if tile_len == t_len else 0\n",
    "\n",
    "                # Extract BC1BC\n",
    "                adBC = getmid(seq, bc1_pre, bc1_post)\n",
    "                adBC_len = len(adBC)\n",
    "                adBC_quality = 1 if adBC_len == bc1_len else 0\n",
    "\n",
    "                # Extract BC3\n",
    "                bc3 = getmid(seq, bc3_pre, bc3_post)\n",
    "                bc3_len_actual = len(bc3)\n",
    "                bc3_quality = 1 if bc3_len_actual == bc3_len else 0\n",
    "\n",
    "                # Extract Designed\n",
    "                designed = getmid(seq, designed_pre, designed_post)\n",
    "                designed_len_actual = len(designed)\n",
    "                designed_quality = 1 if designed in dtd else 0\n",
    "\n",
    "                # Store all values\n",
    "                tile_list.append(tile)\n",
    "                tile_lengths.append(tile_len)\n",
    "                tq_list.append(tile_quality)\n",
    "\n",
    "                bc1_list.append(adBC)\n",
    "                bc1_lengths.append(adBC_len)\n",
    "                bc1q_list.append(adBC_quality)\n",
    "\n",
    "                bc3_list.append(bc3)\n",
    "                bc3_lengths.append(bc3_len_actual)\n",
    "                bc3q_list.append(bc3_quality)\n",
    "\n",
    "                designed_list.append(designed)\n",
    "                designed_lengths.append(designed_len_actual)\n",
    "                designedq_list.append(designed_quality)\n",
    "\n",
    "    # Create DataFrame\n",
    "    tileBC_df = pd.DataFrame({\n",
    "        \"Reads\": sequences,\n",
    "        \"BC1\": bc1_list,\n",
    "        \"BC1 Len\": bc1_lengths,\n",
    "        \"BC1 Qual\": bc1q_list,\n",
    "        \"BC2\": tile_list,\n",
    "        \"BC2 Len\": tile_lengths,\n",
    "        \"BC2 Qual\": tq_list,\n",
    "        \"BC3\": bc3_list,\n",
    "        \"BC3 Len\": bc3_lengths,\n",
    "        \"BC3 Qual\": bc3q_list,\n",
    "        \"Designed\": designed_list,\n",
    "        \"Designed Len\": designed_lengths,\n",
    "        \"Designed Qual\": designedq_list\n",
    "    })\n",
    "\n",
    "    return tileBC_df\n",
    "\n"
   ]
  },
  {
   "cell_type": "code",
   "execution_count": null,
   "id": "2d325a4b-dafa-415c-b635-2d21ffc0ecbe",
   "metadata": {},
   "outputs": [],
   "source": [
    "def process_maps(input_file, design_file):\n",
    "    designed_tile_dict = find_designed(design_file)\n",
    "    map1 = tilebc_mapper(input_file, designed_tile_dict)\n",
    "    return map1, designed_tile_dict"
   ]
  },
  {
   "cell_type": "code",
   "execution_count": null,
   "id": "b9c0d1eb-f524-4845-9889-c595c37c9a81",
   "metadata": {},
   "outputs": [],
   "source": [
    "map1, designed_tile_dict = process_maps(fastq_file_path, design_file_txt)"
   ]
  },
  {
   "cell_type": "markdown",
   "id": "79350a48",
   "metadata": {},
   "source": [
    "### Output df has all reads from the seqfile\n",
    "\n",
    "map1 is the original df"
   ]
  },
  {
   "cell_type": "code",
   "execution_count": null,
   "id": "6fe0bf82",
   "metadata": {},
   "outputs": [],
   "source": [
    "#export the Map1 LUT\n",
    "map1.to_csv(os.path.join(Output_Directory, f'{Lib_Name}_map1.csv'), index=False)\n",
    "map1.to_excel(os.path.join(Output_Directory, f'{Lib_Name}_map1.xlsx'), index=False)"
   ]
  },
  {
   "cell_type": "code",
   "execution_count": null,
   "id": "0799881b-b8b0-4198-9f04-f1317858d190",
   "metadata": {},
   "outputs": [],
   "source": [
    "map1"
   ]
  },
  {
   "cell_type": "code",
   "execution_count": null,
   "id": "39059d58-a6a7-4d02-b688-dfc0fc2cc8db",
   "metadata": {},
   "outputs": [],
   "source": [
    "#below are seires of analysis on the loook up table that was created "
   ]
  },
  {
   "cell_type": "code",
   "execution_count": null,
   "id": "8cfd08ae-8fe2-4231-a3d9-2e74428b905f",
   "metadata": {},
   "outputs": [],
   "source": [
    "#count reads with correct tile length, BC lenngth, and are in designed file\n",
    "count_rows_a = ((map1['BC1 Qual'] == 1)).sum()\n",
    "\n",
    "summary_dict['Category'].append(f'Reads with Correct BC1 Length')\n",
    "summary_dict['Read Count'].append(count_rows_a)\n",
    "\n",
    "print(\"Number of rows with 1 in BC1 Qual :\", count_rows_a)"
   ]
  },
  {
   "cell_type": "code",
   "execution_count": null,
   "id": "c324a452-3cde-4ebb-81fb-a6ec6e74c778",
   "metadata": {},
   "outputs": [],
   "source": [
    "#count reads with correct tile length, BC lenngth, and are in designed file\n",
    "count_rows_t = ((map1['BC2 Qual'] == 1)).sum()\n",
    "\n",
    "summary_dict['Category'].append(f'Reads with Correct BC2 Length')\n",
    "summary_dict['Read Count'].append(count_rows_t)\n",
    "\n",
    "print(\"Number of rows with 1 in BC2 Qual :\", count_rows_t)"
   ]
  },
  {
   "cell_type": "code",
   "execution_count": null,
   "id": "ea9e405b-439c-4d5a-be21-4648136f7e95",
   "metadata": {},
   "outputs": [],
   "source": [
    "#count reads with correct tile length, BC lenngth, and are in designed file\n",
    "count_rows_r = ((map1['BC3 Qual'] == 1)).sum()\n",
    "\n",
    "summary_dict['Category'].append(f'Reads with Correct BC3 Length')\n",
    "summary_dict['Read Count'].append(count_rows_r)\n",
    "\n",
    "print(\"Number of rows with 1 in BC3 Qual :\", count_rows_r)"
   ]
  },
  {
   "cell_type": "code",
   "execution_count": null,
   "id": "2a5ebb27-0881-425b-b3d3-c859fb0f1c62",
   "metadata": {},
   "outputs": [],
   "source": [
    "#count reads with correct tile length, BC lenngth, and are in designed file\n",
    "count_rows_one = len(map1[(map1['BC1 Qual'] == 1) & (map1['BC2 Qual'] == 1)])\n",
    "\n",
    "summary_dict['Category'].append(f'Rows with correct BC2 length and BC1BC length')\n",
    "summary_dict['Read Count'].append(count_rows_one)\n",
    "\n",
    "print(\"Number of rows with 1 in BC1 Qual and BC2 Qual:\", count_rows_one)"
   ]
  },
  {
   "cell_type": "code",
   "execution_count": null,
   "id": "4c998121-d2b8-4546-a296-f232869d978e",
   "metadata": {},
   "outputs": [],
   "source": [
    "#count reads with correct tile length, BC lenngth, and are in designed file\n",
    "count_rows_2 = len(map1[(map1['BC2 Qual'] == 1) & (map1['BC3 Qual'] == 1)])\n",
    "\n",
    "summary_dict['Category'].append(f'Rows with correct BC2 length and BC3 length')\n",
    "summary_dict['Read Count'].append(count_rows_2)\n",
    "\n",
    "print(\"Number of rows with 1 in BC2 Qual and BC3 Qual:\", count_rows_2)"
   ]
  },
  {
   "cell_type": "code",
   "execution_count": null,
   "id": "f1ed7888-5d41-41d7-b930-fd1ee149984e",
   "metadata": {},
   "outputs": [],
   "source": [
    "#count reads with correct tile length, BC lenngth, and are in designed file\n",
    "count_rows_3 = len(map1[(map1['BC1 Qual'] == 1) & (map1['BC3 Qual'] == 1)])\n",
    "\n",
    "summary_dict['Category'].append(f'Rows with correct BC1 length and BC3 length')\n",
    "summary_dict['Read Count'].append(count_rows_3)\n",
    "\n",
    "print(\"Number of rows with 1 in BC1 Qual and BC3 Qual:\", count_rows_3)"
   ]
  },
  {
   "cell_type": "code",
   "execution_count": null,
   "id": "a6b872cf-56cd-406a-be93-91a790544443",
   "metadata": {},
   "outputs": [],
   "source": [
    "#count reads with correct tile length, BC lenngth, and are in designed file\n",
    "count_rows_4 = len(map1[(map1['BC1 Qual'] == 1) & (map1['BC2 Qual'] == 1) & (map1['BC3 Qual'] == 1)])\n",
    "\n",
    "summary_dict['Category'].append(f'Rows with correct BC1 length, BC2 length, and BC3 length')\n",
    "summary_dict['Read Count'].append(count_rows_4)\n",
    "\n",
    "print(\"Number of rows with 1 in BC1 Qual, BC2 Qual, and BC3 Qual:\", count_rows_4)"
   ]
  },
  {
   "cell_type": "code",
   "execution_count": null,
   "id": "e565f7fd-e8e6-4826-9702-234eb70b6399",
   "metadata": {},
   "outputs": [],
   "source": [
    "#count reads with correct tile length, BC lenngth, and are in designed file\n",
    "count_rows_5 = len(map1[(map1['BC1 Qual'] == 1) & (map1['BC3 Qual'] == 1) & (map1['BC2 Qual'] == 1)& (map1['Designed Qual'] == 1)])\n",
    "\n",
    "summary_dict['Category'].append(f'Rows with correct BC1 length, BC2 length, AD BC3 length AND in Designed')\n",
    "summary_dict['Read Count'].append(count_rows_5)\n",
    "\n",
    "print(\"Number of rows with 1 in BC1 Qual, BC2 Qual, BC3 Qual, and Designed Qual:\", count_rows_5)"
   ]
  },
  {
   "cell_type": "code",
   "execution_count": null,
   "id": "8cb6f30c",
   "metadata": {},
   "outputs": [],
   "source": [
    "# plot AD BC len\n",
    "plt.hist(map1['BC1 Len'], bins=100)\n",
    "plt.xlim([0, 12]) #UPDATE if your bc1 length won't fit in this range\n",
    "plt.title(f'BC1 Length Frequency {Lib_Name}')\n",
    "plt.xlabel('BC1 Length')\n",
    "plt.ylabel('Frequency')\n",
    "plt.savefig(os.path.join(Output_Directory, f'{Lib_Name}_BC1_length.{Fig_Format}'))\n",
    "plt.show()"
   ]
  },
  {
   "cell_type": "code",
   "execution_count": null,
   "id": "b53b9452-26c1-4f9a-8cb7-4598d5158401",
   "metadata": {},
   "outputs": [],
   "source": [
    "#plot bc1 qual as histogram\n",
    "\n",
    "plt.hist(map1['BC1 Qual'])\n",
    "plt.title(f'BC1 Quality Frequency {Lib_Name}')\n",
    "plt.xlabel('BC1 Qual')\n",
    "plt.ylabel('Frequency')\n",
    "plt.savefig(os.path.join(Output_Directory, f'{Lib_Name}_BC1_Quality.{Fig_Format}'))\n",
    "plt.show()"
   ]
  },
  {
   "cell_type": "code",
   "execution_count": null,
   "id": "a5f0ad0b",
   "metadata": {},
   "outputs": [],
   "source": [
    "#plot tile length histogram\n",
    "plt.hist(map1['BC2 Len'])\n",
    "plt.xlim([0, 10]) #UPDATE if your tile length won't fit in this range\n",
    "plt.title(f'BC2 Length Frequency {Lib_Name}')\n",
    "plt.xlabel('BC2 Length')\n",
    "plt.ylabel('Frequency')\n",
    "plt.savefig(os.path.join(Output_Directory, f'{Lib_Name}_BC2_Length.{Fig_Format}'))\n",
    "plt.show()\n"
   ]
  },
  {
   "cell_type": "code",
   "execution_count": null,
   "id": "bc8174f3",
   "metadata": {},
   "outputs": [],
   "source": [
    "#plot tile qual as histogram\n",
    "plt.hist(map1['BC2 Qual'])\n",
    "plt.title(f'BC2 Quality Frequency {Lib_Name}')\n",
    "plt.xlabel('BC2 Qual')\n",
    "plt.ylabel('Frequency')\n",
    "plt.savefig(os.path.join(Output_Directory, f'{Lib_Name}_BC2_Quality.{Fig_Format}'))\n",
    "plt.show()"
   ]
  },
  {
   "cell_type": "code",
   "execution_count": null,
   "id": "f19ef71a-828e-41dc-8d34-1c8aa2d1fc10",
   "metadata": {},
   "outputs": [],
   "source": [
    "#plot bc1 qual as histogram\n",
    "\n",
    "plt.hist(map1['BC3 Qual'])\n",
    "plt.title(f'BC3 Quality Frequency {Lib_Name}')\n",
    "plt.xlabel('BC3 Qual')\n",
    "plt.ylabel('Frequency')\n",
    "plt.savefig(os.path.join(Output_Directory, f'{Lib_Name}_BC3_Quality.{Fig_Format}'))\n",
    "plt.show()"
   ]
  },
  {
   "cell_type": "code",
   "execution_count": null,
   "id": "f727d6ed-dad7-4fae-b477-47a7b4ec82c2",
   "metadata": {},
   "outputs": [],
   "source": [
    "# plot AD BC len\n",
    "plt.hist(map1['BC3 Len'], bins=100)\n",
    "plt.xlim([0, 20]) #UPDATE if your barcode length won't fit in this range\n",
    "plt.title(f'BC3 Length Frequency {Lib_Name}')\n",
    "plt.xlabel('BC3 Length')\n",
    "plt.ylabel('Frequency')\n",
    "plt.savefig(os.path.join(Output_Directory, f'{Lib_Name}_BC3_length.{Fig_Format}'))\n",
    "plt.show()"
   ]
  },
  {
   "cell_type": "markdown",
   "id": "9598da15",
   "metadata": {},
   "source": [
    "### Filtering out reads that either do not have the consensus sequences to find the tiles/BCs OR have tiles/BCs of unexpected lengths\n",
    "\n",
    "map2 is the df with only tiles that match designed and where BC lengths are as expected. All length and quality columns are dropped, as well as the column that stored the full read strings."
   ]
  },
  {
   "cell_type": "code",
   "execution_count": null,
   "id": "469e4e47",
   "metadata": {},
   "outputs": [],
   "source": [
    "\n",
    "#Replace all 0s in map1 with NaN to filter out any Qual=0 reads\n",
    "map1_nans = map1.replace(0, np.nan)\n",
    "map2 = map1_nans.dropna().reset_index()\n",
    "\n",
    "#get rid of some now useless columns\n",
    "clabels = ['index','Reads', 'BC2 Len','BC2 Qual', 'BC1 Len','BC1 Qual', 'BC3 Qual', 'BC3 Len', 'Designed Len', 'Designed Qual']\n",
    "map2 = map2.drop(clabels, axis = 1)\n",
    "\n",
    "\n",
    "# how many reads are lost? rc = readcount\n",
    "rcmap1 = map1.shape[0]\n",
    "rcmap2 = map2.shape[0]\n",
    "diffpct = ((rcmap1 - rcmap2) / rcmap1)*100\n",
    "print(\"% Reads lost:\")\n",
    "print(diffpct)\n",
    "\n",
    "summary_dict['Category'].append(f'Map1 Shape')\n",
    "summary_dict['Read Count'].append(rcmap2)\n",
    "\n",
    "summary_dict['Category'].append(f'New Section')\n",
    "summary_dict['Read Count'].append('Quality = 0 rows removed')"
   ]
  },
  {
   "cell_type": "markdown",
   "id": "7409dbc9",
   "metadata": {},
   "source": [
    "### Coverage\n",
    "map3 is a df with tiles, BCs, and combos of tiles and BCs"
   ]
  },
  {
   "cell_type": "code",
   "execution_count": null,
   "id": "bc5b47ae-a2ce-4b89-8ff9-63b9f99467e0",
   "metadata": {},
   "outputs": [],
   "source": [
    "map2"
   ]
  },
  {
   "cell_type": "code",
   "execution_count": null,
   "id": "f692d5e6",
   "metadata": {},
   "outputs": [],
   "source": [
    "map3 = map2.copy()\n",
    "map3.head()"
   ]
  },
  {
   "cell_type": "code",
   "execution_count": null,
   "id": "6a4a3821",
   "metadata": {},
   "outputs": [],
   "source": [
    "#Add column that connects BC1 to the Tile it is paired with (Cat for concatenation) \n",
    "# Create the Cat column by concatenating BC1, BC2, and BC3\n",
    "# Create the Cat column by concatenating BC1, BC2, BC3, and Designed\n",
    "map3['Cat'] = map3['BC1'].str.cat([map3['BC2'], map3['BC3'], map3['Designed']], sep='-')\n",
    "map3['HA'] = map3['BC1'].str.cat([map3['BC2']], sep='-')\n",
    "map3['HAR'] = map3['BC1'].str.cat([map3['BC2'], map3['BC3']], sep='-')\n",
    "\n",
    "summary_dict['Category'].append('Map3 Shape')\n",
    "summary_dict['Read Count'].append(map3.shape[0])\n"
   ]
  },
  {
   "cell_type": "code",
   "execution_count": null,
   "id": "6dda069b-9ba7-42ce-b6b5-6699b0179b83",
   "metadata": {},
   "outputs": [],
   "source": [
    "map3"
   ]
  },
  {
   "cell_type": "code",
   "execution_count": null,
   "id": "b055bd62",
   "metadata": {},
   "outputs": [],
   "source": [
    "#Frequency of each tile-bc combo\n",
    "\n",
    "tbcov = map3['Cat'].value_counts().to_frame().reset_index()\n",
    "\n",
    "summary_dict['Category'].append(f'Unique BC1 + BC2 + BC3 + Designed Tile coverage')\n",
    "summary_dict['Read Count'].append(tbcov.shape[0])\n",
    "\n",
    "print(f'number unique BC1 + BC2 + BC3+ Designed Tile combos:{tbcov.shape[0]}')\n",
    "\n"
   ]
  },
  {
   "cell_type": "code",
   "execution_count": null,
   "id": "033f364c",
   "metadata": {},
   "outputs": [],
   "source": [
    "# plot tb coverage on histogram\n",
    "plt.figure()\n",
    "plt.title(f'Unique BC1 + BC2 + BC3 + Designed Tile Read Coverage Frequency {Lib_Name}')\n",
    "plt.hist(tbcov['Cat'],  bins=75)\n",
    "plt.xlabel('Coverage')\n",
    "plt.ylabel('Counts')\n",
    "plt.savefig(os.path.join(Output_Directory, f'{Lib_Name}_Cat_cov.{Fig_Format}'))\n",
    "plt.show()"
   ]
  },
  {
   "cell_type": "code",
   "execution_count": null,
   "id": "a1a99310-11a3-4d40-b870-a426e9fca364",
   "metadata": {},
   "outputs": [],
   "source": [
    "# plot tb coverage on histogram\n",
    "plt.figure()\n",
    "plt.title(f'Unique BC1 + BC2 + BC3 + Designed Tile Read Coverage Frequency log scale {Lib_Name}')\n",
    "plt.hist(tbcov['Cat'],  bins=75)\n",
    "plt.xlabel('Coverage')\n",
    "plt.ylabel('Counts')\n",
    "plt.xscale('log')\n",
    "plt.yscale('log')\n",
    "plt.savefig(os.path.join(Output_Directory, f'{Lib_Name}_Cat_log_cov.{Fig_Format}'))\n",
    "plt.show()"
   ]
  },
  {
   "cell_type": "code",
   "execution_count": null,
   "id": "d6f1336b",
   "metadata": {
    "scrolled": true
   },
   "outputs": [],
   "source": [
    "#Unique ad bc coverage\n",
    "abcov = map3['BC1'].value_counts().to_frame().reset_index()\n",
    "\n",
    "summary_dict['Category'].append(f'Unique BC1')\n",
    "summary_dict['Read Count'].append(abcov.shape[0])\n",
    "\n",
    "print(f'Unique BC1: {abcov.shape[0]}') \n"
   ]
  },
  {
   "cell_type": "code",
   "execution_count": null,
   "id": "09d2358a",
   "metadata": {},
   "outputs": [],
   "source": [
    "# plot ad bc coverage \n",
    "plt.hist(abcov['BC1'], bins=100)\n",
    "plt.title(f'Unique BC1BC Read Coverage Frequency {Lib_Name}')\n",
    "plt.xlabel('Coverage')\n",
    "plt.ylabel('Counts')\n",
    "plt.savefig(os.path.join(Output_Directory, f'{Lib_Name}_BC1_cov.{Fig_Format}'))\n",
    "plt.show()"
   ]
  },
  {
   "cell_type": "code",
   "execution_count": null,
   "id": "eb75186d",
   "metadata": {},
   "outputs": [],
   "source": [
    "# Unique Tile coverage\n",
    "tcov = map2['BC2'].value_counts().to_frame().reset_index()\n",
    "\n",
    "summary_dict['Category'].append(f'Unique BC2 coverage')\n",
    "summary_dict['Read Count'].append(tcov.shape[0])\n",
    "\n",
    "print (f'Unique BC2s: {tcov.shape[0]}')"
   ]
  },
  {
   "cell_type": "code",
   "execution_count": null,
   "id": "bb45f5dc",
   "metadata": {},
   "outputs": [],
   "source": [
    "# plot tile coverage \n",
    "plt.hist(tcov['BC2'], bins=100)\n",
    "plt.title(f'Unique BC2 Coverage Frequency {Lib_Name}')\n",
    "plt.xlabel('Coverage')\n",
    "plt.ylabel('Counts')\n",
    "plt.savefig(os.path.join(Output_Directory, f'{Lib_Name}_BC2_cov.{Fig_Format}'))\n",
    "plt.show()"
   ]
  },
  {
   "cell_type": "code",
   "execution_count": null,
   "id": "a55e2922-d6a7-4611-8e0a-3df719b8dc74",
   "metadata": {},
   "outputs": [],
   "source": [
    "# plot tile coverage \n",
    "plt.hist(tcov['BC2'], bins=100)\n",
    "plt.title(f'Unique BC2 Coverage Frequency LOG {Lib_Name}')\n",
    "plt.xlabel('Coverage')\n",
    "plt.ylabel('Counts')\n",
    "plt.xscale('log')\n",
    "plt.yscale('log')\n",
    "plt.savefig(os.path.join(Output_Directory, f'{Lib_Name}_BC2_log_cov.{Fig_Format}'))\n",
    "plt.show()"
   ]
  },
  {
   "cell_type": "code",
   "execution_count": null,
   "id": "818ca228-6c82-4a67-bd5e-89cf3b32d2b6",
   "metadata": {},
   "outputs": [],
   "source": [
    "#Unique ad bc coverage\n",
    "Rbcov = map3['BC3'].value_counts().to_frame().reset_index()\n",
    "\n",
    "summary_dict['Category'].append(f'Unique BC3')\n",
    "summary_dict['Read Count'].append(Rbcov.shape[0])\n",
    "\n",
    "print(f'Unique BC3s: {Rbcov.shape[0]}') \n"
   ]
  },
  {
   "cell_type": "code",
   "execution_count": null,
   "id": "f58c3e89-91ee-451c-b1b0-0b2c03619431",
   "metadata": {},
   "outputs": [],
   "source": [
    "# Unique Tile coverage\n",
    "tcovArd3t = map3['Designed'].value_counts().to_frame().reset_index()\n",
    "\n",
    "summary_dict['Category'].append(f'Map3 Unique Tiles ')\n",
    "summary_dict['Read Count'].append(tcovArd3t.shape[0])\n",
    "\n",
    "print (f'Unique Tile Map3: {tcovArd3t.shape[0]}')"
   ]
  },
  {
   "cell_type": "code",
   "execution_count": null,
   "id": "fdc67316-0297-4aed-97bc-ff770287b608",
   "metadata": {},
   "outputs": [],
   "source": [
    "# plot ad bc coverage \n",
    "plt.hist(Rbcov['BC3'], bins=100)\n",
    "plt.title(f'Unique BC3 Read Coverage Frequency {Lib_Name}')\n",
    "plt.xlabel('Coverage')\n",
    "plt.ylabel('Counts')\n",
    "plt.savefig(os.path.join(Output_Directory, f'{Lib_Name}_BC3_cov.{Fig_Format}'))\n",
    "plt.show()"
   ]
  },
  {
   "cell_type": "code",
   "execution_count": null,
   "id": "a9b60b50-6be6-4bfc-a507-fc65682dd9f4",
   "metadata": {},
   "outputs": [],
   "source": [
    "# plot ad bc coverage \n",
    "plt.hist(Rbcov['BC3'], bins=100)\n",
    "plt.title(f'Unique BC3 Read Coverage Frequency LOG {Lib_Name}')\n",
    "plt.xlabel('Coverage')\n",
    "plt.ylabel('Counts')\n",
    "plt.xscale('log')\n",
    "plt.yscale('log')\n",
    "plt.savefig(os.path.join(Output_Directory, f'{Lib_Name}_BC3_cov_log.{Fig_Format}'))\n",
    "plt.show()"
   ]
  },
  {
   "cell_type": "code",
   "execution_count": null,
   "id": "b8692ba1-8e60-4b47-beb8-a127dcf58aa1",
   "metadata": {},
   "outputs": [],
   "source": [
    "# Group by BC1 and count unique BC2s\n",
    "adbc_per_bc1 = map2.groupby('BC1')['BC2'].nunique()\n",
    "\n",
    "# Plot histogram\n",
    "plt.figure(figsize=(10, 6))\n",
    "plt.hist(adbc_per_bc1, bins=range(1, adbc_per_bc1.max() + 2), edgecolor='black')\n",
    "plt.title(f'Histogram of Unique BC2s per BC1 {Lib_Name}')\n",
    "plt.xlabel('Number of Unique BC2s')\n",
    "plt.ylabel('Number of BC1')\n",
    "plt.grid(True)\n",
    "plt.tight_layout()\n",
    "plt.savefig(os.path.join(Output_Directory, f'{Lib_Name}_uniBC2perBC1_cov.{Fig_Format}'))\n",
    "plt.show()\n",
    "\n",
    "# Print summary statistics\n",
    "print(f\"Min: {adbc_per_bc1.min()}\")\n",
    "print(f\"Max: {adbc_per_bc1.max()}\")\n",
    "print(f\"Median: {adbc_per_bc1.median()}\")\n",
    "print(f\"Mean: {adbc_per_bc1.mean():.2f}\")\n",
    "\n",
    "# Print top 10 BC1 with highest unique BC2 counts\n",
    "top10_adbc_per_bc1 = adbc_per_bc1.sort_values(ascending=False).head(10)\n",
    "print(\"\\nTop 10 BC1 with highest number of unique BC2s:\")\n",
    "print(top10_adbc_per_bc1)"
   ]
  },
  {
   "cell_type": "code",
   "execution_count": null,
   "id": "4e58cb09-767c-446c-bdf4-29db72e507b0",
   "metadata": {},
   "outputs": [],
   "source": [
    "# Group by HA and count unique BC3s\n",
    "bc3_per_ha = map3.groupby('HA')['BC3'].nunique()\n",
    "\n",
    "# Plot histogram\n",
    "plt.figure(figsize=(10, 6))\n",
    "plt.hist(bc3_per_ha, bins=range(1, bc3_per_ha.max() + 2), edgecolor='black')\n",
    "plt.title(f'Histogram of Unique BC3s per HA {Lib_Name}')\n",
    "plt.xlabel('Number of Unique BC3s')\n",
    "plt.ylabel('Number of HA Entries')\n",
    "plt.grid(True)\n",
    "plt.tight_layout()\n",
    "plt.savefig(os.path.join(Output_Directory, f'{Lib_Name}_uniBC3perHA_cov.{Fig_Format}'))\n",
    "plt.show()\n",
    "\n",
    "# Print summary statistics\n",
    "print(f\"Min: {bc3_per_ha.min()}\")\n",
    "print(f\"Max: {bc3_per_ha.max()}\")\n",
    "print(f\"Median: {bc3_per_ha.median()}\")\n",
    "print(f\"Mean: {bc3_per_ha.mean():.2f}\")\n",
    "# Print top 10 HA entries with highest unique BC3 counts\n",
    "top10_bc3_per_ha = bc3_per_ha.sort_values(ascending=False).head(10)\n",
    "print(\"\\nTop 10 HA entries with highest number of unique BC3s:\")\n",
    "print(top10_bc3_per_ha)\n"
   ]
  },
  {
   "cell_type": "code",
   "execution_count": null,
   "id": "ba84006b-6ea1-44d6-8ae7-3ce56666f0dd",
   "metadata": {},
   "outputs": [],
   "source": [
    "# Group by BC3 and count unique HA values\n",
    "ha_per_bc3 = map3.groupby('BC3')['HA'].nunique()\n",
    "\n",
    "# Plot histogram\n",
    "plt.figure(figsize=(10, 6))\n",
    "plt.hist(ha_per_bc3, bins=range(1, ha_per_bc3.max() + 2), edgecolor='black')\n",
    "plt.title(f'Histogram of Unique HA per BC3 {Lib_Name}')\n",
    "plt.xlabel('Number of Unique HA Values')\n",
    "plt.ylabel('Number of BC3 Entries')\n",
    "plt.grid(True)\n",
    "plt.tight_layout()\n",
    "plt.savefig(os.path.join(Output_Directory, f'{Lib_Name}_uniHAperBC3_cov.{Fig_Format}'))\n",
    "plt.show()\n",
    "\n",
    "# Print summary statistics\n",
    "print(f\"Min: {ha_per_bc3.min()}\")\n",
    "print(f\"Max: {ha_per_bc3.max()}\")\n",
    "print(f\"Median: {ha_per_bc3.median()}\")\n",
    "print(f\"Mean: {ha_per_bc3.mean():.2f}\")\n",
    "\n",
    "# Print top 10 BC3s with highest unique HA counts\n",
    "top10_ha_per_bc3 = ha_per_bc3.sort_values(ascending=False).head(10)\n",
    "print(\"\\nTop 10 BC3s with highest number of unique HA values:\")\n",
    "print(top10_ha_per_bc3)\n"
   ]
  },
  {
   "cell_type": "code",
   "execution_count": null,
   "id": "250f7b0e-828e-41dc-a9ac-0d5a93946356",
   "metadata": {},
   "outputs": [],
   "source": [
    "# Unique Tile coverage\n",
    "tcovA = map3['HA'].value_counts().to_frame().reset_index()\n",
    "\n",
    "summary_dict['Category'].append(f'Unique BC1+BC2 (HA) combos coverage')\n",
    "summary_dict['Read Count'].append(tcovA.shape[0])\n",
    "\n",
    "print (f'Unique BC1+BC2 combos: {tcovA.shape[0]}')"
   ]
  },
  {
   "cell_type": "code",
   "execution_count": null,
   "id": "ead3a021-633a-468b-9337-3736ecdb7d3a",
   "metadata": {},
   "outputs": [],
   "source": [
    "# Unique Tile coverage\n",
    "tcovAr = map3['HAR'].value_counts().to_frame().reset_index()\n",
    "\n",
    "summary_dict['Category'].append(f'Unique BC1+BC2+ BC3 (HAR) combos coverage')\n",
    "summary_dict['Read Count'].append(tcovAr.shape[0])\n",
    "\n",
    "print (f'Unique BC1+BC2+ BC3 combos: {tcovAr.shape[0]}')"
   ]
  },
  {
   "cell_type": "code",
   "execution_count": null,
   "id": "bb802c94",
   "metadata": {},
   "outputs": [],
   "source": [
    "#make csv of map3\n",
    "map3.to_csv(os.path.join(Output_Directory, f'{Lib_Name}_map3.csv'), index=False)\n",
    "map3.to_excel(os.path.join(Output_Directory, f'{Lib_Name}_map3.xlsx'), index=False)"
   ]
  },
  {
   "cell_type": "code",
   "execution_count": null,
   "id": "8d532263-6694-4720-80cb-36f4838903ee",
   "metadata": {},
   "outputs": [],
   "source": [
    "summary_dict['Category'].append(f'New Section')\n",
    "summary_dict['Read Count'].append(f'Filter Map3 to keep rows that have {Threshold} minimum # of Reads per Cat')"
   ]
  },
  {
   "cell_type": "code",
   "execution_count": null,
   "id": "d931e302-7dc8-4801-988d-f81dc490d262",
   "metadata": {},
   "outputs": [],
   "source": [
    "#Filter to remove rows that appear less than threshold number of times\n",
    "\n",
    "# Count how many times each Cat appears in map3\n",
    "cat_counts = map3['Cat'].value_counts()\n",
    "\n",
    "# Keep only Cats that occur >= Threshold times\n",
    "valid_cats = cat_counts[cat_counts >= Threshold].index\n",
    "\n",
    "# Filter map3 to keep only those rows\n",
    "map3min = map3[map3['Cat'].isin(valid_cats)].copy()\n",
    "\n",
    "print(f\"Threshold: {Threshold}\")\n",
    "print(f\"Original map3 rows: {len(map3)}\")\n",
    "print(f\"Rows kept in map3min: {len(map3min)}\")\n",
    "print(f\"Unique Cats kept: {map3min['Cat'].nunique()}\")"
   ]
  },
  {
   "cell_type": "code",
   "execution_count": null,
   "id": "5ba25095-f5ec-48a0-98a8-b1c081a0e453",
   "metadata": {},
   "outputs": [],
   "source": [
    "summary_dict['Category'].append(f'Map3 Filtered by read threshold shape')\n",
    "summary_dict['Read Count'].append(map3min.shape[0])"
   ]
  },
  {
   "cell_type": "code",
   "execution_count": null,
   "id": "a77069e8-dda5-4f2b-99b4-d6f4326f09ee",
   "metadata": {},
   "outputs": [],
   "source": [
    "# Unique Tile coverage\n",
    "tcovArd3 = map3min['Designed'].value_counts().to_frame().reset_index()\n",
    "\n",
    "summary_dict['Category'].append(f'Map3 Filtered by read threshold shape unique Designed Tile ')\n",
    "summary_dict['Read Count'].append(tcovArd3.shape[0])\n",
    "\n",
    "print (f'Unique Tile combos Map3: {tcovArd3.shape[0]}')"
   ]
  },
  {
   "cell_type": "code",
   "execution_count": null,
   "id": "2ca8c1ff-a44e-4228-9955-273e11cb15c6",
   "metadata": {},
   "outputs": [],
   "source": [
    "summary_dict['Category'].append(f'Map3 Filtered by read threshold shape unique Cat')\n",
    "summary_dict['Read Count'].append(map3min['Cat'].nunique())"
   ]
  },
  {
   "cell_type": "code",
   "execution_count": null,
   "id": "ac0134e8-0261-4104-8632-afc963325272",
   "metadata": {},
   "outputs": [],
   "source": [
    "summary_dict['Category'].append(f'Map3 Filtered by read threshold shape unique BC1')\n",
    "summary_dict['Read Count'].append(map3min['BC1'].nunique())"
   ]
  },
  {
   "cell_type": "code",
   "execution_count": null,
   "id": "27b47f91-875b-4c09-b075-0d48aa32edf5",
   "metadata": {},
   "outputs": [],
   "source": [
    "summary_dict['Category'].append(f'Map3 Filtered by read threshold shape unique BC2')\n",
    "summary_dict['Read Count'].append(map3min['BC2'].nunique())"
   ]
  },
  {
   "cell_type": "code",
   "execution_count": null,
   "id": "f71847b1-753f-46fe-b140-5f338d53be65",
   "metadata": {},
   "outputs": [],
   "source": [
    "summary_dict['Category'].append(f'Map3 Filtered by read threshold shape unique HA')\n",
    "summary_dict['Read Count'].append(map3min['HA'].nunique())"
   ]
  },
  {
   "cell_type": "code",
   "execution_count": null,
   "id": "50c57da7-08ff-43cd-b58d-57b1a92a17f8",
   "metadata": {},
   "outputs": [],
   "source": [
    "summary_dict['Category'].append(f'Map3 Filtered by read threshold shape unique HAR')\n",
    "summary_dict['Read Count'].append(map3min['HAR'].nunique())"
   ]
  },
  {
   "cell_type": "code",
   "execution_count": null,
   "id": "5e2b1c23-3feb-47a1-8bf6-4e94c6bbcfbf",
   "metadata": {},
   "outputs": [],
   "source": [
    "summary_dict['Category'].append(f'New Section')\n",
    "summary_dict['Read Count'].append('Map3 filtered by read coverage and by removing BC3 that map to multiple HA')"
   ]
  },
  {
   "cell_type": "code",
   "execution_count": null,
   "id": "1af7c26f-192c-402f-b25f-f65764ea64d4",
   "metadata": {},
   "outputs": [],
   "source": [
    "#identify BC3 that map back to multiple HA and remove all rows that contrain those HA and/or BC3 \n",
    "\n",
    "# Group by BC3 and count unique HA values\n",
    "ha_per_bc3 = map3min.groupby('BC3')['HA'].nunique()\n",
    "\n",
    "# Identify BC3s with more than 1 unique HA\n",
    "bad_bc3 = ha_per_bc3[ha_per_bc3 > 1].index\n",
    "\n",
    "# Identify all HAs associated with those BC3s\n",
    "bad_ha = map3min.loc[map3min['BC3'].isin(bad_bc3), 'HA'].unique()\n",
    "\n",
    "# Remove rows with bad BC3s or bad HAs\n",
    "map3_filtered = map3min[~map3min['BC3'].isin(bad_bc3) & ~map3min['HA'].isin(bad_ha)]\n",
    "\n",
    "# --- Recompute statistics on filtered dataset ---\n",
    "ha_per_bc3_filtered = map3_filtered.groupby('BC3')['HA'].nunique()\n",
    "\n",
    "#NOTE they should all equl 1 because the graph is made after filtering so that all BC3 should have a unique HA\n",
    "# Plot histogram\n",
    "plt.figure(figsize=(10, 6))\n",
    "plt.hist(ha_per_bc3_filtered, bins=range(1, ha_per_bc3_filtered.max() + 2), edgecolor='black')\n",
    "plt.title(f'Histogram of Unique HA per BC3 (Filtered) {Lib_Name}')\n",
    "plt.xlabel('Number of Unique HA Values')\n",
    "plt.ylabel('Number of BC3 Entries')\n",
    "plt.grid(True)\n",
    "plt.tight_layout()\n",
    "plt.savefig(os.path.join(Output_Directory, f'{Lib_Name}_uniHAperBC3_cov_filtered.{Fig_Format}'))\n",
    "plt.show()\n",
    "\n",
    "# Print summary statistics\n",
    "print(f\"Min: {ha_per_bc3_filtered.min()}\")\n",
    "print(f\"Max: {ha_per_bc3_filtered.max()}\")\n",
    "print(f\"Median: {ha_per_bc3_filtered.median()}\")\n",
    "print(f\"Mean: {ha_per_bc3_filtered.mean():.2f}\")\n",
    "\n",
    "# Print top 10 BC3s with highest unique HA counts\n",
    "top10_ha_per_bc3 = ha_per_bc3_filtered.sort_values(ascending=False).head(10)\n",
    "print(\"\\nTop 10 BC3s with highest number of unique HA values (Filtered):\")\n",
    "print(top10_ha_per_bc3)"
   ]
  },
  {
   "cell_type": "code",
   "execution_count": null,
   "id": "30b3ba33-f5a4-4614-8eba-ebb6e84c3f2f",
   "metadata": {},
   "outputs": [],
   "source": [
    "#Adding the rows that were removed due to mapping to multiple things and exporting them into a new df and file so that you can analyze them further \n",
    "# Mask for removed rows (bad BC3s or bad HAs)\n",
    "removed_mask = map3min['BC3'].isin(bad_bc3) | map3min['HA'].isin(bad_ha)\n",
    "\n",
    "# DataFrame of removed rows\n",
    "removed_rows = map3min[removed_mask].copy()\n",
    "\n",
    "# # Optional: save removed rows to CSV for inspection\n",
    "# removed_fp = os.path.join(Output_Directory, f'{Lib_Name}_removed_badBC3_HA.csv')\n",
    "# removed_rows.to_csv(removed_fp, index=False)\n",
    "\n",
    "print(f\"Removed rows saved to: {removed_fp}\")\n",
    "print(f\"Number of removed rows: {len(removed_rows)}\")\n",
    "print(removed_rows.head(10))  # peek at first 10\n"
   ]
  },
  {
   "cell_type": "code",
   "execution_count": null,
   "id": "2ea42fe4-fb07-42f5-9f7b-e69c7308e1cd",
   "metadata": {},
   "outputs": [],
   "source": [
    "# Group removed_rows by Cat and count how many times each appears\n",
    "removed_cats = (\n",
    "    removed_rows.groupby('Cat')\n",
    "    .size()\n",
    "    .reset_index(name='Cat_Count')\n",
    ")\n",
    "\n",
    "# Optional: save this summary\n",
    "removed_cats_fp = os.path.join(Output_Directory, f'{Lib_Name}_removed_CatCounts.csv')\n",
    "removed_cats.to_csv(removed_cats_fp, index=False)\n",
    "removed_cats_fpp = os.path.join(Output_Directory, f'{Lib_Name}_removed_CatCounts.xlsx')\n",
    "removed_cats.to_excel(removed_cats_fpp, index=False)\n",
    "\n",
    "print(f\"Removed Cat summary saved to: {removed_cats_fp}\")\n",
    "print(removed_cats.head(10))  # preview first 10\n",
    "print(len(removed_cats))\n"
   ]
  },
  {
   "cell_type": "code",
   "execution_count": null,
   "id": "ab1bea8f-384c-4731-b963-6e0967d34e77",
   "metadata": {},
   "outputs": [],
   "source": [
    "# --- Sort removed_cats by largest Cat_Count ---\n",
    "removed_cats_sorted = removed_cats.sort_values(by='Cat_Count', ascending=False)\n",
    "\n",
    "# Save sorted version\n",
    "removed_cats_sorted_fp = os.path.join(Output_Directory, f'{Lib_Name}_removed_CatCounts_sorted.csv')\n",
    "removed_cats_sorted.to_csv(removed_cats_sorted_fp, index=False)\n",
    "\n",
    "print(f\"Sorted removed Cat summary saved to: {removed_cats_sorted_fp}\")\n",
    "print(removed_cats_sorted.head(10))  # preview top 10\n",
    "\n",
    "# --- Plot histogram of Cat_Count ---\n",
    "plt.figure(figsize=(10, 6))\n",
    "plt.hist(removed_cats_sorted['Cat_Count'], bins=75, edgecolor='black')\n",
    "plt.title(f'Histogram of Cat_Count (Removed Rows) {Lib_Name}')\n",
    "plt.xlabel('Cat_Count')\n",
    "plt.ylabel('Number of Cats')\n",
    "plt.grid(True)\n",
    "plt.tight_layout()\n",
    "plt.savefig(os.path.join(Output_Directory, f'{Lib_Name}_removed_CatCount_hist.{Fig_Format}'))\n",
    "plt.show()\n"
   ]
  },
  {
   "cell_type": "code",
   "execution_count": null,
   "id": "18af1c9d-da2f-4036-a8ad-109b6f8c5fca",
   "metadata": {},
   "outputs": [],
   "source": [
    "#seeing the number of HA that have multiple BC3. This number can be larger than 1 and will just have to collapse all of the BC3 for each HA in final analysis to count as one rep\n",
    "# Group by HA and count unique BC3s\n",
    "bc3_per_hat = map3_filtered.groupby('HA')['BC3'].nunique()\n",
    "\n",
    "# Plot histogram\n",
    "plt.figure(figsize=(10, 6))\n",
    "plt.hist(bc3_per_hat, bins=range(1, bc3_per_hat.max() + 2), edgecolor='black')\n",
    "plt.title(f'Histogram of Unique BC3s per HA map3filtereed {Lib_Name}')\n",
    "plt.xlabel('Number of Unique BC3s')\n",
    "plt.ylabel('Number of HA Entries')\n",
    "plt.grid(True)\n",
    "plt.tight_layout()\n",
    "plt.savefig(os.path.join(Output_Directory, f'{Lib_Name}_uniBC3perHA_cov_map3filtered.{Fig_Format}'))\n",
    "plt.show()\n",
    "\n",
    "# Print summary statistics\n",
    "print(f\"Min: {bc3_per_hat.min()}\")\n",
    "print(f\"Max: {bc3_per_hat.max()}\")\n",
    "print(f\"Median: {bc3_per_hat.median()}\")\n",
    "print(f\"Mean: {bc3_per_hat.mean():.2f}\")\n",
    "\n"
   ]
  },
  {
   "cell_type": "code",
   "execution_count": null,
   "id": "49e238f2-1f99-4ee3-bac7-52d1a49e2b22",
   "metadata": {},
   "outputs": [],
   "source": [
    "# Step 1: Count how many times each Cat value appears\n",
    "cat_countss = map3_filtered['Cat'].value_counts()\n",
    "\n",
    "# Step 2: Drop duplicate Cat rows, keeping the first occurrence\n",
    "map4 = map3_filtered.drop_duplicates(subset='Cat').copy()\n",
    "\n",
    "# Step 3: Add the Cat_Coverage column\n",
    "map4['Cat_Counts'] = map4['Cat'].map(cat_countss)\n",
    "map4"
   ]
  },
  {
   "cell_type": "code",
   "execution_count": null,
   "id": "8296e6c9-2541-4603-be92-c102567bd682",
   "metadata": {},
   "outputs": [],
   "source": [
    "map4 = map4.sort_values(by='Cat_Counts', ascending=False)\n",
    "map4"
   ]
  },
  {
   "cell_type": "code",
   "execution_count": null,
   "id": "97a3aec6-9d6f-4577-b7b0-b50824904668",
   "metadata": {},
   "outputs": [],
   "source": [
    "summary_dict['Category'].append(f'Map3 read coverage >= {Threshold} and no BC3 that map to multiple HA')\n",
    "summary_dict['Read Count'].append(map3_filtered.shape[0])\n",
    "\n",
    "summary_dict['Category'].append(f'map4 shape unique Cat')\n",
    "summary_dict['Read Count'].append(map4.shape[0])\n"
   ]
  },
  {
   "cell_type": "code",
   "execution_count": null,
   "id": "3e7e4d8a-a237-47ec-96cf-e2cfbd9ee350",
   "metadata": {},
   "outputs": [],
   "source": [
    "map4.to_excel(os.path.join(Output_Directory,f'{Lib_Name}_map4_unique_Cat_min_{Threshold}_reads.xlsx'), index=False)\n",
    "map4.to_csv(os.path.join(Output_Directory,f'{Lib_Name}_map4_unique_Cat_min_{Threshold}_reads.csv'), index=False)"
   ]
  },
  {
   "cell_type": "code",
   "execution_count": null,
   "id": "f4987662-41e6-47d1-9fab-846c79c5a627",
   "metadata": {},
   "outputs": [],
   "source": [
    "#Unique ad bc coverage\n",
    "abcovtavc = map4['Cat'].value_counts().to_frame().reset_index()\n",
    "\n",
    "summary_dict['Category'].append(f'Unique Cat map4')\n",
    "summary_dict['Read Count'].append(abcovtavc.shape[0])\n",
    "\n",
    "print(f'Unique Cat: {abcovtavc.shape[0]}') # number unique ad bcs"
   ]
  },
  {
   "cell_type": "code",
   "execution_count": null,
   "id": "86fcaf13-8623-45d5-a5fd-3cb2bedcdb80",
   "metadata": {},
   "outputs": [],
   "source": [
    "#Unique ad bc coverage\n",
    "abcovt = map4['BC1'].value_counts().to_frame().reset_index()\n",
    "\n",
    "summary_dict['Category'].append(f'Unique BC1BC map4')\n",
    "summary_dict['Read Count'].append(abcovt.shape[0])\n",
    "\n",
    "print(f'Unique BC1: {abcovt.shape[0]}') # number unique ad bcs"
   ]
  },
  {
   "cell_type": "code",
   "execution_count": null,
   "id": "c4a80d62-e19b-45cb-a4cb-ad110b67eb4c",
   "metadata": {},
   "outputs": [],
   "source": [
    "#Unique ad bc coverage\n",
    "abcovta = map4['BC2'].value_counts().to_frame().reset_index()\n",
    "\n",
    "summary_dict['Category'].append(f'Unique BC2 map4')\n",
    "summary_dict['Read Count'].append(abcovta.shape[0])\n",
    "\n",
    "print(f'Unique BC2: {abcovta.shape[0]}') # number unique ad bcs"
   ]
  },
  {
   "cell_type": "code",
   "execution_count": null,
   "id": "76fa310d-a5e1-46eb-9051-9f1307b8cc31",
   "metadata": {},
   "outputs": [],
   "source": [
    "#Unique ad bc coverage\n",
    "abcovtav = map4['BC3'].value_counts().to_frame().reset_index()\n",
    "\n",
    "summary_dict['Category'].append(f'Unique BC3 map4')\n",
    "summary_dict['Read Count'].append(abcovtav.shape[0])\n",
    "\n",
    "print(f'Unique BC3: {abcovtav.shape[0]}') # number unique ad bcs"
   ]
  },
  {
   "cell_type": "code",
   "execution_count": null,
   "id": "25f16120-a188-4d8a-b758-7142eee791cb",
   "metadata": {},
   "outputs": [],
   "source": [
    "# Unique Tile coverage\n",
    "tcovArd = map4['Designed'].value_counts().to_frame().reset_index()\n",
    "\n",
    "summary_dict['Category'].append(f'Unique Tile coverage Map4')\n",
    "summary_dict['Read Count'].append(tcovArd.shape[0])\n",
    "\n",
    "print (f'Unique Tile combos Map4: {tcovArd.shape[0]}')"
   ]
  },
  {
   "cell_type": "code",
   "execution_count": null,
   "id": "07245db8-a3e8-4033-82f2-f18b8e9d455e",
   "metadata": {},
   "outputs": [],
   "source": [
    "# Unique Tile coverage\n",
    "tcovAr = map4['HA'].value_counts().to_frame().reset_index()\n",
    "\n",
    "summary_dict['Category'].append(f'Unique BC1+BC2 combos coverage Map4')\n",
    "summary_dict['Read Count'].append(tcovAr.shape[0])\n",
    "\n",
    "print (f'Unique BC1+BC2 combos Map4: {tcovAr.shape[0]}')"
   ]
  },
  {
   "cell_type": "code",
   "execution_count": null,
   "id": "5f3bcb2d-512d-43d5-9d85-8b8b774f3f99",
   "metadata": {},
   "outputs": [],
   "source": [
    "# Unique Tile coverage\n",
    "tcovArr = map4['HAR'].value_counts().to_frame().reset_index()\n",
    "\n",
    "summary_dict['Category'].append(f'Unique BC1+BC2+ BC3 combos coverage Map4')\n",
    "summary_dict['Read Count'].append(tcovArr.shape[0])\n",
    "\n",
    "print (f'Unique BC1+BC2+ BC3 combos map4: {tcovArr.shape[0]}')"
   ]
  },
  {
   "cell_type": "code",
   "execution_count": null,
   "id": "800a1e3d-1b6b-4a4b-9d4c-20ed6d286d05",
   "metadata": {},
   "outputs": [],
   "source": [
    "tbcov4 = map3_filtered['Cat'].value_counts().to_frame().reset_index()\n"
   ]
  },
  {
   "cell_type": "code",
   "execution_count": null,
   "id": "961bf914-9c3f-4579-9977-6c64318f6516",
   "metadata": {},
   "outputs": [],
   "source": [
    "# plot tb coverage on histogram\n",
    "plt.figure()\n",
    "plt.title(f'map3filtered Unique BC1 + BC2 + BC3 + Designed Tile Read Coverage Frequency log scale {Lib_Name}')\n",
    "plt.hist(tbcov4['Cat'],  bins=75)\n",
    "plt.xlabel('Coverage')\n",
    "plt.ylabel('Counts')\n",
    "plt.xscale('log')\n",
    "plt.yscale('log')\n",
    "plt.savefig(os.path.join(Output_Directory, f'{Lib_Name}_Cat_map3filtered_log_cov.{Fig_Format}'))\n",
    "plt.show()"
   ]
  },
  {
   "cell_type": "code",
   "execution_count": null,
   "id": "cd1f5ad0-699d-4ae6-9f46-837997f4cba9",
   "metadata": {},
   "outputs": [],
   "source": [
    "#create summary table\n",
    "summary_dict_df = pd.DataFrame.from_dict(summary_dict)\n",
    "summary_dict_df.to_csv(os.path.join(Output_Directory, f'{Lib_Name}_Step1_Summary.csv'), index=False)\n",
    "summary_dict_df.to_excel(os.path.join(Output_Directory,f'{Lib_Name}_Step1_Summary.xlsx'), index=False)"
   ]
  },
  {
   "cell_type": "code",
   "execution_count": null,
   "id": "3cb216d9-a759-4bc0-aba5-b56b9277a106",
   "metadata": {},
   "outputs": [],
   "source": []
  }
 ],
 "metadata": {
  "kernelspec": {
   "display_name": "Python 3 (ipykernel)",
   "language": "python",
   "name": "python3"
  },
  "language_info": {
   "codemirror_mode": {
    "name": "ipython",
    "version": 3
   },
   "file_extension": ".py",
   "mimetype": "text/x-python",
   "name": "python",
   "nbconvert_exporter": "python",
   "pygments_lexer": "ipython3",
   "version": "3.11.7"
  }
 },
 "nbformat": 4,
 "nbformat_minor": 5
}
